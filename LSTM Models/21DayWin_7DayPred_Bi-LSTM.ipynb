{
 "cells": [
  {
   "cell_type": "markdown",
   "metadata": {},
   "source": [
    "## Analysis Starts here"
   ]
  },
  {
   "cell_type": "code",
   "execution_count": 1,
   "metadata": {},
   "outputs": [],
   "source": [
    "import pandas as pd\n",
    "path = \"Jan3_2022_Pred/21DayWin_7DayPred/\"\n",
    "x_train = pd.read_csv(path+\"x_train.csv\",index_col=0)\n",
    "y_train = pd.read_csv(path+\"y_train.csv\",index_col=0)\n",
    "\n",
    "x_val = pd.read_csv(path+\"x_val.csv\",index_col=0)\n",
    "y_val = pd.read_csv(path+\"y_val.csv\",index_col=0)\n",
    "\n",
    "x_test = pd.read_csv(path+\"x_test.csv\",index_col=0)\n",
    "y_test = pd.read_csv(path+\"y_test.csv\",index_col=0)"
   ]
  },
  {
   "cell_type": "markdown",
   "metadata": {},
   "source": [
    "### Training Model for only Cases Prediction"
   ]
  },
  {
   "cell_type": "code",
   "execution_count": 2,
   "metadata": {},
   "outputs": [],
   "source": [
    "y_train = y_train.iloc[:,[1,3,5,7,9,11,13]]\n",
    "y_val = y_val.iloc[:,[1,3,5,7,9,11,13]]\n",
    "y_test = y_test.iloc[:,[1,3,5,7,9,11,13]]"
   ]
  },
  {
   "cell_type": "code",
   "execution_count": 3,
   "metadata": {},
   "outputs": [
    {
     "data": {
      "text/html": [
       "<div>\n",
       "<style scoped>\n",
       "    .dataframe tbody tr th:only-of-type {\n",
       "        vertical-align: middle;\n",
       "    }\n",
       "\n",
       "    .dataframe tbody tr th {\n",
       "        vertical-align: top;\n",
       "    }\n",
       "\n",
       "    .dataframe thead th {\n",
       "        text-align: right;\n",
       "    }\n",
       "</style>\n",
       "<table border=\"1\" class=\"dataframe\">\n",
       "  <thead>\n",
       "    <tr style=\"text-align: right;\">\n",
       "      <th></th>\n",
       "      <th>metrics.caseDensity(t)</th>\n",
       "      <th>metrics.caseDensity(t+1)</th>\n",
       "      <th>metrics.caseDensity(t+2)</th>\n",
       "      <th>metrics.caseDensity(t+3)</th>\n",
       "      <th>metrics.caseDensity(t+4)</th>\n",
       "      <th>metrics.caseDensity(t+5)</th>\n",
       "      <th>metrics.caseDensity(t+6)</th>\n",
       "    </tr>\n",
       "    <tr>\n",
       "      <th>date</th>\n",
       "      <th></th>\n",
       "      <th></th>\n",
       "      <th></th>\n",
       "      <th></th>\n",
       "      <th></th>\n",
       "      <th></th>\n",
       "      <th></th>\n",
       "    </tr>\n",
       "  </thead>\n",
       "  <tbody>\n",
       "    <tr>\n",
       "      <th>2020-04-26</th>\n",
       "      <td>-1.020043</td>\n",
       "      <td>-1.017310</td>\n",
       "      <td>-1.017571</td>\n",
       "      <td>-1.015028</td>\n",
       "      <td>-1.016160</td>\n",
       "      <td>-1.009215</td>\n",
       "      <td>-1.007637</td>\n",
       "    </tr>\n",
       "    <tr>\n",
       "      <th>2020-04-27</th>\n",
       "      <td>-1.017310</td>\n",
       "      <td>-1.017571</td>\n",
       "      <td>-1.015028</td>\n",
       "      <td>-1.016160</td>\n",
       "      <td>-1.009215</td>\n",
       "      <td>-1.007637</td>\n",
       "      <td>-1.004158</td>\n",
       "    </tr>\n",
       "    <tr>\n",
       "      <th>2020-04-28</th>\n",
       "      <td>-1.017571</td>\n",
       "      <td>-1.015028</td>\n",
       "      <td>-1.016160</td>\n",
       "      <td>-1.009215</td>\n",
       "      <td>-1.007637</td>\n",
       "      <td>-1.004158</td>\n",
       "      <td>-1.001529</td>\n",
       "    </tr>\n",
       "    <tr>\n",
       "      <th>2020-04-29</th>\n",
       "      <td>-1.015028</td>\n",
       "      <td>-1.016160</td>\n",
       "      <td>-1.009215</td>\n",
       "      <td>-1.007637</td>\n",
       "      <td>-1.004158</td>\n",
       "      <td>-1.001529</td>\n",
       "      <td>-0.999039</td>\n",
       "    </tr>\n",
       "    <tr>\n",
       "      <th>2020-04-30</th>\n",
       "      <td>-1.016160</td>\n",
       "      <td>-1.009215</td>\n",
       "      <td>-1.007637</td>\n",
       "      <td>-1.004158</td>\n",
       "      <td>-1.001529</td>\n",
       "      <td>-0.999039</td>\n",
       "      <td>-0.999226</td>\n",
       "    </tr>\n",
       "    <tr>\n",
       "      <th>...</th>\n",
       "      <td>...</td>\n",
       "      <td>...</td>\n",
       "      <td>...</td>\n",
       "      <td>...</td>\n",
       "      <td>...</td>\n",
       "      <td>...</td>\n",
       "      <td>...</td>\n",
       "    </tr>\n",
       "    <tr>\n",
       "      <th>2021-08-27</th>\n",
       "      <td>1.252444</td>\n",
       "      <td>1.293391</td>\n",
       "      <td>1.336629</td>\n",
       "      <td>1.378909</td>\n",
       "      <td>1.438982</td>\n",
       "      <td>1.489022</td>\n",
       "      <td>1.514540</td>\n",
       "    </tr>\n",
       "    <tr>\n",
       "      <th>2021-08-28</th>\n",
       "      <td>1.293391</td>\n",
       "      <td>1.336629</td>\n",
       "      <td>1.378909</td>\n",
       "      <td>1.438982</td>\n",
       "      <td>1.489022</td>\n",
       "      <td>1.514540</td>\n",
       "      <td>1.551361</td>\n",
       "    </tr>\n",
       "    <tr>\n",
       "      <th>2021-08-29</th>\n",
       "      <td>1.336629</td>\n",
       "      <td>1.378909</td>\n",
       "      <td>1.438982</td>\n",
       "      <td>1.489022</td>\n",
       "      <td>1.514540</td>\n",
       "      <td>1.551361</td>\n",
       "      <td>1.551055</td>\n",
       "    </tr>\n",
       "    <tr>\n",
       "      <th>2021-08-30</th>\n",
       "      <td>1.378909</td>\n",
       "      <td>1.438982</td>\n",
       "      <td>1.489022</td>\n",
       "      <td>1.514540</td>\n",
       "      <td>1.551361</td>\n",
       "      <td>1.551055</td>\n",
       "      <td>1.544446</td>\n",
       "    </tr>\n",
       "    <tr>\n",
       "      <th>2021-08-31</th>\n",
       "      <td>1.438982</td>\n",
       "      <td>1.489022</td>\n",
       "      <td>1.514540</td>\n",
       "      <td>1.551361</td>\n",
       "      <td>1.551055</td>\n",
       "      <td>1.544446</td>\n",
       "      <td>1.536253</td>\n",
       "    </tr>\n",
       "  </tbody>\n",
       "</table>\n",
       "<p>493 rows × 7 columns</p>\n",
       "</div>"
      ],
      "text/plain": [
       "            metrics.caseDensity(t)  metrics.caseDensity(t+1)  \\\n",
       "date                                                           \n",
       "2020-04-26               -1.020043                 -1.017310   \n",
       "2020-04-27               -1.017310                 -1.017571   \n",
       "2020-04-28               -1.017571                 -1.015028   \n",
       "2020-04-29               -1.015028                 -1.016160   \n",
       "2020-04-30               -1.016160                 -1.009215   \n",
       "...                            ...                       ...   \n",
       "2021-08-27                1.252444                  1.293391   \n",
       "2021-08-28                1.293391                  1.336629   \n",
       "2021-08-29                1.336629                  1.378909   \n",
       "2021-08-30                1.378909                  1.438982   \n",
       "2021-08-31                1.438982                  1.489022   \n",
       "\n",
       "            metrics.caseDensity(t+2)  metrics.caseDensity(t+3)  \\\n",
       "date                                                             \n",
       "2020-04-26                 -1.017571                 -1.015028   \n",
       "2020-04-27                 -1.015028                 -1.016160   \n",
       "2020-04-28                 -1.016160                 -1.009215   \n",
       "2020-04-29                 -1.009215                 -1.007637   \n",
       "2020-04-30                 -1.007637                 -1.004158   \n",
       "...                              ...                       ...   \n",
       "2021-08-27                  1.336629                  1.378909   \n",
       "2021-08-28                  1.378909                  1.438982   \n",
       "2021-08-29                  1.438982                  1.489022   \n",
       "2021-08-30                  1.489022                  1.514540   \n",
       "2021-08-31                  1.514540                  1.551361   \n",
       "\n",
       "            metrics.caseDensity(t+4)  metrics.caseDensity(t+5)  \\\n",
       "date                                                             \n",
       "2020-04-26                 -1.016160                 -1.009215   \n",
       "2020-04-27                 -1.009215                 -1.007637   \n",
       "2020-04-28                 -1.007637                 -1.004158   \n",
       "2020-04-29                 -1.004158                 -1.001529   \n",
       "2020-04-30                 -1.001529                 -0.999039   \n",
       "...                              ...                       ...   \n",
       "2021-08-27                  1.438982                  1.489022   \n",
       "2021-08-28                  1.489022                  1.514540   \n",
       "2021-08-29                  1.514540                  1.551361   \n",
       "2021-08-30                  1.551361                  1.551055   \n",
       "2021-08-31                  1.551055                  1.544446   \n",
       "\n",
       "            metrics.caseDensity(t+6)  \n",
       "date                                  \n",
       "2020-04-26                 -1.007637  \n",
       "2020-04-27                 -1.004158  \n",
       "2020-04-28                 -1.001529  \n",
       "2020-04-29                 -0.999039  \n",
       "2020-04-30                 -0.999226  \n",
       "...                              ...  \n",
       "2021-08-27                  1.514540  \n",
       "2021-08-28                  1.551361  \n",
       "2021-08-29                  1.551055  \n",
       "2021-08-30                  1.544446  \n",
       "2021-08-31                  1.536253  \n",
       "\n",
       "[493 rows x 7 columns]"
      ]
     },
     "execution_count": 3,
     "metadata": {},
     "output_type": "execute_result"
    }
   ],
   "source": [
    "y_train"
   ]
  },
  {
   "cell_type": "code",
   "execution_count": 4,
   "metadata": {},
   "outputs": [
    {
     "data": {
      "text/plain": [
       "Index(['actuals.cases(t-21)', 'actuals.deaths(t-21)',\n",
       "       'metrics.deathDensity(t-21)', 'metrics.caseDensity(t-21)',\n",
       "       'metrics.testPositivityRatio(t-21)', 'cdcTransmissionLevel(t-21)',\n",
       "       'riskLevels.caseDensity(t-21)', 'riskLevels.overall(t-21)',\n",
       "       'metrics.vaccinationsCompletedRatio(t-21)',\n",
       "       'metrics.vaccinationsInitiatedRatio(t-21)',\n",
       "       ...\n",
       "       'actuals.cases(t-1)', 'actuals.deaths(t-1)',\n",
       "       'metrics.deathDensity(t-1)', 'metrics.caseDensity(t-1)',\n",
       "       'metrics.testPositivityRatio(t-1)', 'cdcTransmissionLevel(t-1)',\n",
       "       'riskLevels.caseDensity(t-1)', 'riskLevels.overall(t-1)',\n",
       "       'metrics.vaccinationsCompletedRatio(t-1)',\n",
       "       'metrics.vaccinationsInitiatedRatio(t-1)'],\n",
       "      dtype='object', length=210)"
      ]
     },
     "execution_count": 4,
     "metadata": {},
     "output_type": "execute_result"
    }
   ],
   "source": [
    "x_test.columns"
   ]
  },
  {
   "cell_type": "code",
   "execution_count": 5,
   "metadata": {},
   "outputs": [],
   "source": [
    "## RESHAPE\n",
    "def reshape_data(data, timesteps=1):\n",
    "\n",
    "    #reshape input to be 3D [samples, timesteps, features]\n",
    "    np_values = data.values\n",
    "    new_data = np_values.reshape((np_values.shape[0], timesteps, np_values.shape[1]))\n",
    "    \n",
    "    return new_data\n",
    "\n",
    "X_train= reshape_data(x_train,1)\n",
    "X_val= reshape_data(x_val,1)\n",
    "Y_train= reshape_data(y_train,1)\n",
    "Y_val= reshape_data(y_val,1)"
   ]
  },
  {
   "cell_type": "code",
   "execution_count": 6,
   "metadata": {},
   "outputs": [
    {
     "data": {
      "text/plain": [
       "(124, 1, 7)"
      ]
     },
     "execution_count": 6,
     "metadata": {},
     "output_type": "execute_result"
    }
   ],
   "source": [
    "Y_val.shape"
   ]
  },
  {
   "cell_type": "code",
   "execution_count": 7,
   "metadata": {},
   "outputs": [],
   "source": [
    "import numpy as np # linear algebra\n",
    "import pandas as pd \n",
    "import matplotlib.pyplot as plt\n",
    "\n",
    "import tensorflow as tf\n",
    "from numpy.random import seed\n",
    "from sklearn.model_selection import train_test_split\n",
    "from keras.layers import Input, Dense, Concatenate, LSTM, Dropout, Lambda, Bidirectional\n",
    "from keras.models import Model\n",
    "from keras import backend as K #For explicitly adjusting the learning rate\n",
    "from keras.callbacks import ReduceLROnPlateau, EarlyStopping, ModelCheckpoint\n",
    "from tensorflow.keras import Sequential\n",
    "\n",
    "# from tensorflow import keras\n",
    "import tensorflow.keras.backend as K\n"
   ]
  },
  {
   "cell_type": "code",
   "execution_count": 8,
   "metadata": {},
   "outputs": [],
   "source": [
    "import tensorflow as tf\n",
    "tf.keras.backend.clear_session()"
   ]
  },
  {
   "cell_type": "code",
   "execution_count": 9,
   "metadata": {},
   "outputs": [],
   "source": [
    "def root_mean_squared_error(y_true, y_pred):\n",
    "        return K.sqrt(K.mean(K.square(y_pred - y_true)))"
   ]
  },
  {
   "cell_type": "code",
   "execution_count": 10,
   "metadata": {
    "scrolled": true
   },
   "outputs": [
    {
     "name": "stdout",
     "output_type": "stream",
     "text": [
      "WARNING:tensorflow:Layer lstm will not use cuDNN kernels since it doesn't meet the criteria. It will use a generic GPU kernel as fallback when running on GPU.\n",
      "WARNING:tensorflow:Layer lstm will not use cuDNN kernels since it doesn't meet the criteria. It will use a generic GPU kernel as fallback when running on GPU.\n",
      "WARNING:tensorflow:Layer lstm will not use cuDNN kernels since it doesn't meet the criteria. It will use a generic GPU kernel as fallback when running on GPU.\n",
      "Model: \"sequential\"\n",
      "_________________________________________________________________\n",
      " Layer (type)                Output Shape              Param #   \n",
      "=================================================================\n",
      " bidirectional (Bidirectiona  (None, 256)              347136    \n",
      " l)                                                              \n",
      "                                                                 \n",
      " dense (Dense)               (None, 32)                8224      \n",
      "                                                                 \n",
      " dense_1 (Dense)             (None, 7)                 231       \n",
      "                                                                 \n",
      "=================================================================\n",
      "Total params: 355,591\n",
      "Trainable params: 355,591\n",
      "Non-trainable params: 0\n",
      "_________________________________________________________________\n"
     ]
    }
   ],
   "source": [
    "learning_rate_reduction = ReduceLROnPlateau(monitor='val_root_mean_squared_error', \n",
    "                                            patience=3, \n",
    "                                            verbose=1, \n",
    "                                            factor=0.5, \n",
    "                                            min_lr=1e-10)\n",
    "\n",
    "# optimizer = tf.keras.optimizers.Adam(learning_rate = 0.0001)\n",
    "optimizer = 'adam'\n",
    "\n",
    "loss_fn = root_mean_squared_error\n",
    "# loss_fn = 'mse'\n",
    "\n",
    "model = Sequential()\n",
    "# model.add(LSTM(128,  activation='relu', return_sequences=True, input_shape=(X_train.shape[1], X_train.shape[2])))\n",
    "model.add(Bidirectional(LSTM(128, activation='relu', dropout=0.2), input_shape=(X_train.shape[1],X_train.shape[2])))\n",
    "# model.add(LSTM(128,  activation='relu', return_sequences=True))\n",
    "model.add(Dense(32, activation=\"relu\"))\n",
    "# model.add(Dropout(0.2)) \n",
    "model.add(Dense(7)) #Output Variables\n",
    "model.compile(loss=loss_fn, optimizer=optimizer,metrics = [loss_fn,'mean_squared_error','mean_absolute_percentage_error','mean_absolute_error'])\n",
    "model.summary()\n",
    "# fit network"
   ]
  },
  {
   "cell_type": "code",
   "execution_count": 11,
   "metadata": {},
   "outputs": [
    {
     "name": "stdout",
     "output_type": "stream",
     "text": [
      "Epoch 1/100\n",
      "31/31 [==============================] - 7s 79ms/step - loss: 0.6620 - root_mean_squared_error: 0.6626 - mean_squared_error: 0.5620 - mean_absolute_percentage_error: 130.4987 - mean_absolute_error: 0.5952 - val_loss: 0.5946 - val_root_mean_squared_error: 0.6344 - val_mean_squared_error: 0.4580 - val_mean_absolute_percentage_error: 126.0529 - val_mean_absolute_error: 0.4548 - lr: 0.0010\n",
      "Epoch 2/100\n",
      "31/31 [==============================] - 2s 68ms/step - loss: 0.4572 - root_mean_squared_error: 0.4569 - mean_squared_error: 0.2367 - mean_absolute_percentage_error: 98.7381 - mean_absolute_error: 0.3812 - val_loss: 0.6510 - val_root_mean_squared_error: 0.6698 - val_mean_squared_error: 0.4559 - val_mean_absolute_percentage_error: 198.4889 - val_mean_absolute_error: 0.5561 - lr: 0.0010\n",
      "Epoch 3/100\n",
      "31/31 [==============================] - 1s 22ms/step - loss: 0.5933 - root_mean_squared_error: 0.5963 - mean_squared_error: 0.5494 - mean_absolute_percentage_error: 92.4726 - mean_absolute_error: 0.5204 - val_loss: 0.7767 - val_root_mean_squared_error: 0.8131 - val_mean_squared_error: 0.6774 - val_mean_absolute_percentage_error: 146.2761 - val_mean_absolute_error: 0.6008 - lr: 0.0010\n",
      "Epoch 4/100\n",
      "30/31 [============================>.] - ETA: 0s - loss: 0.6329 - root_mean_squared_error: 0.6329 - mean_squared_error: 0.5280 - mean_absolute_percentage_error: 120.1981 - mean_absolute_error: 0.5206\n",
      "Epoch 4: ReduceLROnPlateau reducing learning rate to 0.0005000000237487257.\n",
      "31/31 [==============================] - 2s 66ms/step - loss: 0.6440 - root_mean_squared_error: 0.6465 - mean_squared_error: 0.5405 - mean_absolute_percentage_error: 119.1440 - mean_absolute_error: 0.5295 - val_loss: 1.0726 - val_root_mean_squared_error: 1.0993 - val_mean_squared_error: 1.1804 - val_mean_absolute_percentage_error: 251.8733 - val_mean_absolute_error: 0.8649 - lr: 0.0010\n",
      "Epoch 5/100\n",
      "31/31 [==============================] - 1s 20ms/step - loss: 0.6774 - root_mean_squared_error: 0.6778 - mean_squared_error: 0.7149 - mean_absolute_percentage_error: 117.4480 - mean_absolute_error: 0.5989 - val_loss: 0.5643 - val_root_mean_squared_error: 0.6028 - val_mean_squared_error: 0.4376 - val_mean_absolute_percentage_error: 89.6831 - val_mean_absolute_error: 0.4087 - lr: 5.0000e-04\n",
      "Epoch 6/100\n",
      "31/31 [==============================] - 1s 19ms/step - loss: 0.5270 - root_mean_squared_error: 0.5269 - mean_squared_error: 0.4260 - mean_absolute_percentage_error: 102.3329 - mean_absolute_error: 0.4318 - val_loss: 0.6787 - val_root_mean_squared_error: 0.7001 - val_mean_squared_error: 0.5237 - val_mean_absolute_percentage_error: 172.4343 - val_mean_absolute_error: 0.5629 - lr: 5.0000e-04\n",
      "Epoch 7/100\n",
      "31/31 [==============================] - 1s 20ms/step - loss: 0.4855 - root_mean_squared_error: 0.4857 - mean_squared_error: 0.3758 - mean_absolute_percentage_error: 97.2996 - mean_absolute_error: 0.3943 - val_loss: 0.5715 - val_root_mean_squared_error: 0.6010 - val_mean_squared_error: 0.3966 - val_mean_absolute_percentage_error: 133.6462 - val_mean_absolute_error: 0.4550 - lr: 5.0000e-04\n",
      "Epoch 8/100\n",
      "31/31 [==============================] - 1s 19ms/step - loss: 0.4663 - root_mean_squared_error: 0.4659 - mean_squared_error: 0.3320 - mean_absolute_percentage_error: 98.5337 - mean_absolute_error: 0.3650 - val_loss: 0.7190 - val_root_mean_squared_error: 0.7374 - val_mean_squared_error: 0.5566 - val_mean_absolute_percentage_error: 206.9295 - val_mean_absolute_error: 0.5847 - lr: 5.0000e-04\n",
      "Epoch 9/100\n",
      "31/31 [==============================] - 1s 19ms/step - loss: 0.3981 - root_mean_squared_error: 0.3986 - mean_squared_error: 0.2641 - mean_absolute_percentage_error: 87.2490 - mean_absolute_error: 0.3292 - val_loss: 0.5037 - val_root_mean_squared_error: 0.5339 - val_mean_squared_error: 0.3206 - val_mean_absolute_percentage_error: 111.3808 - val_mean_absolute_error: 0.3856 - lr: 5.0000e-04\n",
      "Epoch 10/100\n",
      "31/31 [==============================] - 1s 20ms/step - loss: 0.4592 - root_mean_squared_error: 0.4588 - mean_squared_error: 0.2999 - mean_absolute_percentage_error: 95.9371 - mean_absolute_error: 0.3627 - val_loss: 0.7246 - val_root_mean_squared_error: 0.7404 - val_mean_squared_error: 0.5643 - val_mean_absolute_percentage_error: 220.1582 - val_mean_absolute_error: 0.6157 - lr: 5.0000e-04\n",
      "Epoch 11/100\n",
      "31/31 [==============================] - 1s 20ms/step - loss: 0.3738 - root_mean_squared_error: 0.3751 - mean_squared_error: 0.2147 - mean_absolute_percentage_error: 82.0794 - mean_absolute_error: 0.3126 - val_loss: 0.4750 - val_root_mean_squared_error: 0.5099 - val_mean_squared_error: 0.3138 - val_mean_absolute_percentage_error: 87.0886 - val_mean_absolute_error: 0.3515 - lr: 5.0000e-04\n",
      "Epoch 12/100\n",
      "31/31 [==============================] - 1s 19ms/step - loss: 0.3112 - root_mean_squared_error: 0.3112 - mean_squared_error: 0.1636 - mean_absolute_percentage_error: 85.1157 - mean_absolute_error: 0.2620 - val_loss: 0.6443 - val_root_mean_squared_error: 0.6620 - val_mean_squared_error: 0.4633 - val_mean_absolute_percentage_error: 191.5336 - val_mean_absolute_error: 0.5501 - lr: 5.0000e-04\n",
      "Epoch 13/100\n",
      "31/31 [==============================] - 1s 19ms/step - loss: 0.3274 - root_mean_squared_error: 0.3281 - mean_squared_error: 0.1768 - mean_absolute_percentage_error: 78.9426 - mean_absolute_error: 0.2801 - val_loss: 0.4286 - val_root_mean_squared_error: 0.4610 - val_mean_squared_error: 0.2607 - val_mean_absolute_percentage_error: 96.5290 - val_mean_absolute_error: 0.3276 - lr: 5.0000e-04\n",
      "Epoch 14/100\n",
      "31/31 [==============================] - 1s 19ms/step - loss: 0.3455 - root_mean_squared_error: 0.3451 - mean_squared_error: 0.1644 - mean_absolute_percentage_error: 85.8774 - mean_absolute_error: 0.2963 - val_loss: 0.7130 - val_root_mean_squared_error: 0.7275 - val_mean_squared_error: 0.5472 - val_mean_absolute_percentage_error: 223.1688 - val_mean_absolute_error: 0.6333 - lr: 5.0000e-04\n",
      "Epoch 15/100\n",
      "31/31 [==============================] - 1s 20ms/step - loss: 0.3232 - root_mean_squared_error: 0.3246 - mean_squared_error: 0.1677 - mean_absolute_percentage_error: 81.5256 - mean_absolute_error: 0.2762 - val_loss: 0.4409 - val_root_mean_squared_error: 0.4767 - val_mean_squared_error: 0.2829 - val_mean_absolute_percentage_error: 84.2720 - val_mean_absolute_error: 0.3329 - lr: 5.0000e-04\n",
      "Epoch 16/100\n",
      "31/31 [==============================] - ETA: 0s - loss: 0.3483 - root_mean_squared_error: 0.3478 - mean_squared_error: 0.1614 - mean_absolute_percentage_error: 88.5965 - mean_absolute_error: 0.2997\n",
      "Epoch 16: ReduceLROnPlateau reducing learning rate to 0.0002500000118743628.\n",
      "31/31 [==============================] - 1s 20ms/step - loss: 0.3483 - root_mean_squared_error: 0.3478 - mean_squared_error: 0.1614 - mean_absolute_percentage_error: 88.5965 - mean_absolute_error: 0.2997 - val_loss: 0.6627 - val_root_mean_squared_error: 0.6798 - val_mean_squared_error: 0.4761 - val_mean_absolute_percentage_error: 207.2234 - val_mean_absolute_error: 0.5915 - lr: 5.0000e-04\n",
      "Epoch 17/100\n",
      "31/31 [==============================] - 1s 20ms/step - loss: 0.3202 - root_mean_squared_error: 0.3201 - mean_squared_error: 0.1747 - mean_absolute_percentage_error: 81.0004 - mean_absolute_error: 0.2647 - val_loss: 0.4473 - val_root_mean_squared_error: 0.4776 - val_mean_squared_error: 0.2704 - val_mean_absolute_percentage_error: 100.4648 - val_mean_absolute_error: 0.3433 - lr: 2.5000e-04\n",
      "Epoch 18/100\n",
      "31/31 [==============================] - 1s 19ms/step - loss: 0.2392 - root_mean_squared_error: 0.2392 - mean_squared_error: 0.0942 - mean_absolute_percentage_error: 79.8350 - mean_absolute_error: 0.1956 - val_loss: 0.5418 - val_root_mean_squared_error: 0.5642 - val_mean_squared_error: 0.3493 - val_mean_absolute_percentage_error: 149.0891 - val_mean_absolute_error: 0.4541 - lr: 2.5000e-04\n",
      "Epoch 19/100\n",
      "30/31 [============================>.] - ETA: 0s - loss: 0.2497 - root_mean_squared_error: 0.2497 - mean_squared_error: 0.0880 - mean_absolute_percentage_error: 84.0621 - mean_absolute_error: 0.2086\n",
      "Epoch 19: ReduceLROnPlateau reducing learning rate to 0.0001250000059371814.\n",
      "31/31 [==============================] - 1s 19ms/step - loss: 0.2496 - root_mean_squared_error: 0.2496 - mean_squared_error: 0.0874 - mean_absolute_percentage_error: 82.5811 - mean_absolute_error: 0.2084 - val_loss: 0.5108 - val_root_mean_squared_error: 0.5352 - val_mean_squared_error: 0.3186 - val_mean_absolute_percentage_error: 133.3855 - val_mean_absolute_error: 0.4156 - lr: 2.5000e-04\n"
     ]
    },
    {
     "name": "stdout",
     "output_type": "stream",
     "text": [
      "Epoch 20/100\n",
      "31/31 [==============================] - 1s 19ms/step - loss: 0.2189 - root_mean_squared_error: 0.2191 - mean_squared_error: 0.0713 - mean_absolute_percentage_error: 77.9231 - mean_absolute_error: 0.1782 - val_loss: 0.4974 - val_root_mean_squared_error: 0.5227 - val_mean_squared_error: 0.3074 - val_mean_absolute_percentage_error: 125.5715 - val_mean_absolute_error: 0.4004 - lr: 1.2500e-04\n",
      "Epoch 21/100\n",
      "31/31 [==============================] - 1s 20ms/step - loss: 0.2050 - root_mean_squared_error: 0.2052 - mean_squared_error: 0.0653 - mean_absolute_percentage_error: 75.9099 - mean_absolute_error: 0.1665 - val_loss: 0.5021 - val_root_mean_squared_error: 0.5270 - val_mean_squared_error: 0.3124 - val_mean_absolute_percentage_error: 126.6756 - val_mean_absolute_error: 0.4067 - lr: 1.2500e-04\n",
      "Epoch 22/100\n",
      "31/31 [==============================] - ETA: 0s - loss: 0.2010 - root_mean_squared_error: 0.2011 - mean_squared_error: 0.0618 - mean_absolute_percentage_error: 75.4370 - mean_absolute_error: 0.1638\n",
      "Epoch 22: ReduceLROnPlateau reducing learning rate to 6.25000029685907e-05.\n",
      "31/31 [==============================] - 1s 20ms/step - loss: 0.2010 - root_mean_squared_error: 0.2011 - mean_squared_error: 0.0618 - mean_absolute_percentage_error: 75.4370 - mean_absolute_error: 0.1638 - val_loss: 0.4752 - val_root_mean_squared_error: 0.5018 - val_mean_squared_error: 0.2902 - val_mean_absolute_percentage_error: 116.4091 - val_mean_absolute_error: 0.3790 - lr: 1.2500e-04\n",
      "Epoch 23/100\n",
      "31/31 [==============================] - 1s 19ms/step - loss: 0.1958 - root_mean_squared_error: 0.1959 - mean_squared_error: 0.0589 - mean_absolute_percentage_error: 73.9928 - mean_absolute_error: 0.1595 - val_loss: 0.4792 - val_root_mean_squared_error: 0.5055 - val_mean_squared_error: 0.2945 - val_mean_absolute_percentage_error: 117.5833 - val_mean_absolute_error: 0.3842 - lr: 6.2500e-05\n",
      "Epoch 24/100\n",
      "31/31 [==============================] - 1s 19ms/step - loss: 0.1921 - root_mean_squared_error: 0.1923 - mean_squared_error: 0.0569 - mean_absolute_percentage_error: 73.9526 - mean_absolute_error: 0.1564 - val_loss: 0.4833 - val_root_mean_squared_error: 0.5094 - val_mean_squared_error: 0.2980 - val_mean_absolute_percentage_error: 118.3112 - val_mean_absolute_error: 0.3879 - lr: 6.2500e-05\n",
      "Epoch 25/100\n",
      "31/31 [==============================] - ETA: 0s - loss: 0.1912 - root_mean_squared_error: 0.1914 - mean_squared_error: 0.0567 - mean_absolute_percentage_error: 74.6295 - mean_absolute_error: 0.1556\n",
      "Epoch 25: ReduceLROnPlateau reducing learning rate to 3.125000148429535e-05.\n",
      "31/31 [==============================] - 1s 20ms/step - loss: 0.1912 - root_mean_squared_error: 0.1914 - mean_squared_error: 0.0567 - mean_absolute_percentage_error: 74.6295 - mean_absolute_error: 0.1556 - val_loss: 0.4855 - val_root_mean_squared_error: 0.5115 - val_mean_squared_error: 0.3004 - val_mean_absolute_percentage_error: 119.0144 - val_mean_absolute_error: 0.3910 - lr: 6.2500e-05\n",
      "Epoch 26/100\n",
      "31/31 [==============================] - 1s 20ms/step - loss: 0.1887 - root_mean_squared_error: 0.1890 - mean_squared_error: 0.0551 - mean_absolute_percentage_error: 74.0408 - mean_absolute_error: 0.1537 - val_loss: 0.4852 - val_root_mean_squared_error: 0.5112 - val_mean_squared_error: 0.3002 - val_mean_absolute_percentage_error: 118.6580 - val_mean_absolute_error: 0.3906 - lr: 3.1250e-05\n",
      "Epoch 27/100\n",
      "31/31 [==============================] - 1s 19ms/step - loss: 0.1881 - root_mean_squared_error: 0.1884 - mean_squared_error: 0.0548 - mean_absolute_percentage_error: 73.3602 - mean_absolute_error: 0.1536 - val_loss: 0.4793 - val_root_mean_squared_error: 0.5057 - val_mean_squared_error: 0.2955 - val_mean_absolute_percentage_error: 116.0837 - val_mean_absolute_error: 0.3842 - lr: 3.1250e-05\n",
      "Epoch 28/100\n",
      "31/31 [==============================] - ETA: 0s - loss: 0.1867 - root_mean_squared_error: 0.1869 - mean_squared_error: 0.0533 - mean_absolute_percentage_error: 72.5182 - mean_absolute_error: 0.1526\n",
      "Epoch 28: ReduceLROnPlateau reducing learning rate to 1.5625000742147677e-05.\n",
      "31/31 [==============================] - 1s 20ms/step - loss: 0.1867 - root_mean_squared_error: 0.1869 - mean_squared_error: 0.0533 - mean_absolute_percentage_error: 72.5182 - mean_absolute_error: 0.1526 - val_loss: 0.4870 - val_root_mean_squared_error: 0.5129 - val_mean_squared_error: 0.3020 - val_mean_absolute_percentage_error: 119.0010 - val_mean_absolute_error: 0.3926 - lr: 3.1250e-05\n",
      "Epoch 29/100\n",
      "31/31 [==============================] - 1s 20ms/step - loss: 0.1871 - root_mean_squared_error: 0.1873 - mean_squared_error: 0.0537 - mean_absolute_percentage_error: 73.6062 - mean_absolute_error: 0.1529 - val_loss: 0.4843 - val_root_mean_squared_error: 0.5104 - val_mean_squared_error: 0.2998 - val_mean_absolute_percentage_error: 117.7662 - val_mean_absolute_error: 0.3896 - lr: 1.5625e-05\n",
      "Epoch 30/100\n",
      "31/31 [==============================] - 1s 20ms/step - loss: 0.1869 - root_mean_squared_error: 0.1872 - mean_squared_error: 0.0532 - mean_absolute_percentage_error: 72.0208 - mean_absolute_error: 0.1522 - val_loss: 0.4817 - val_root_mean_squared_error: 0.5080 - val_mean_squared_error: 0.2979 - val_mean_absolute_percentage_error: 116.5841 - val_mean_absolute_error: 0.3869 - lr: 1.5625e-05\n",
      "Epoch 31/100\n",
      "31/31 [==============================] - ETA: 0s - loss: 0.1868 - root_mean_squared_error: 0.1871 - mean_squared_error: 0.0541 - mean_absolute_percentage_error: 71.0923 - mean_absolute_error: 0.1526\n",
      "Epoch 31: ReduceLROnPlateau reducing learning rate to 7.812500371073838e-06.\n",
      "31/31 [==============================] - 1s 20ms/step - loss: 0.1868 - root_mean_squared_error: 0.1871 - mean_squared_error: 0.0541 - mean_absolute_percentage_error: 71.0923 - mean_absolute_error: 0.1526 - val_loss: 0.4806 - val_root_mean_squared_error: 0.5069 - val_mean_squared_error: 0.2971 - val_mean_absolute_percentage_error: 116.0493 - val_mean_absolute_error: 0.3858 - lr: 1.5625e-05\n",
      "Epoch 32/100\n",
      "31/31 [==============================] - 1s 20ms/step - loss: 0.1873 - root_mean_squared_error: 0.1875 - mean_squared_error: 0.0540 - mean_absolute_percentage_error: 74.2708 - mean_absolute_error: 0.1527 - val_loss: 0.4808 - val_root_mean_squared_error: 0.5071 - val_mean_squared_error: 0.2974 - val_mean_absolute_percentage_error: 116.1140 - val_mean_absolute_error: 0.3861 - lr: 7.8125e-06\n",
      "Epoch 33/100\n",
      "31/31 [==============================] - 1s 19ms/step - loss: 0.1848 - root_mean_squared_error: 0.1850 - mean_squared_error: 0.0531 - mean_absolute_percentage_error: 72.8823 - mean_absolute_error: 0.1508 - val_loss: 0.4798 - val_root_mean_squared_error: 0.5062 - val_mean_squared_error: 0.2966 - val_mean_absolute_percentage_error: 115.7094 - val_mean_absolute_error: 0.3851 - lr: 7.8125e-06\n",
      "Epoch 34/100\n",
      "31/31 [==============================] - ETA: 0s - loss: 0.1836 - root_mean_squared_error: 0.1839 - mean_squared_error: 0.0518 - mean_absolute_percentage_error: 72.4631 - mean_absolute_error: 0.1495\n",
      "Epoch 34: ReduceLROnPlateau reducing learning rate to 3.906250185536919e-06.\n",
      "31/31 [==============================] - 1s 20ms/step - loss: 0.1836 - root_mean_squared_error: 0.1839 - mean_squared_error: 0.0518 - mean_absolute_percentage_error: 72.4631 - mean_absolute_error: 0.1495 - val_loss: 0.4786 - val_root_mean_squared_error: 0.5051 - val_mean_squared_error: 0.2957 - val_mean_absolute_percentage_error: 115.2812 - val_mean_absolute_error: 0.3838 - lr: 7.8125e-06\n",
      "Epoch 35/100\n",
      "31/31 [==============================] - 1s 20ms/step - loss: 0.1861 - root_mean_squared_error: 0.1863 - mean_squared_error: 0.0529 - mean_absolute_percentage_error: 72.5957 - mean_absolute_error: 0.1521 - val_loss: 0.4779 - val_root_mean_squared_error: 0.5045 - val_mean_squared_error: 0.2951 - val_mean_absolute_percentage_error: 114.9720 - val_mean_absolute_error: 0.3831 - lr: 3.9063e-06\n",
      "Epoch 36/100\n",
      "31/31 [==============================] - 1s 20ms/step - loss: 0.1843 - root_mean_squared_error: 0.1846 - mean_squared_error: 0.0525 - mean_absolute_percentage_error: 72.3526 - mean_absolute_error: 0.1503 - val_loss: 0.4778 - val_root_mean_squared_error: 0.5044 - val_mean_squared_error: 0.2951 - val_mean_absolute_percentage_error: 114.9006 - val_mean_absolute_error: 0.3830 - lr: 3.9063e-06\n"
     ]
    },
    {
     "name": "stdout",
     "output_type": "stream",
     "text": [
      "Epoch 37/100\n",
      "30/31 [============================>.] - ETA: 0s - loss: 0.1836 - root_mean_squared_error: 0.1836 - mean_squared_error: 0.0528 - mean_absolute_percentage_error: 74.3662 - mean_absolute_error: 0.1502\n",
      "Epoch 37: ReduceLROnPlateau reducing learning rate to 1.9531250927684596e-06.\n",
      "31/31 [==============================] - 1s 20ms/step - loss: 0.1847 - root_mean_squared_error: 0.1850 - mean_squared_error: 0.0528 - mean_absolute_percentage_error: 73.0655 - mean_absolute_error: 0.1509 - val_loss: 0.4765 - val_root_mean_squared_error: 0.5031 - val_mean_squared_error: 0.2940 - val_mean_absolute_percentage_error: 114.3889 - val_mean_absolute_error: 0.3816 - lr: 3.9063e-06\n",
      "Epoch 38/100\n",
      "31/31 [==============================] - 1s 20ms/step - loss: 0.1861 - root_mean_squared_error: 0.1865 - mean_squared_error: 0.0535 - mean_absolute_percentage_error: 71.8744 - mean_absolute_error: 0.1516 - val_loss: 0.4768 - val_root_mean_squared_error: 0.5034 - val_mean_squared_error: 0.2943 - val_mean_absolute_percentage_error: 114.5282 - val_mean_absolute_error: 0.3820 - lr: 1.9531e-06\n",
      "Epoch 39/100\n",
      "31/31 [==============================] - 1s 20ms/step - loss: 0.1829 - root_mean_squared_error: 0.1832 - mean_squared_error: 0.0517 - mean_absolute_percentage_error: 71.5915 - mean_absolute_error: 0.1494 - val_loss: 0.4766 - val_root_mean_squared_error: 0.5032 - val_mean_squared_error: 0.2942 - val_mean_absolute_percentage_error: 114.4440 - val_mean_absolute_error: 0.3818 - lr: 1.9531e-06\n",
      "Epoch 40/100\n",
      "31/31 [==============================] - ETA: 0s - loss: 0.1876 - root_mean_squared_error: 0.1878 - mean_squared_error: 0.0540 - mean_absolute_percentage_error: 73.1167 - mean_absolute_error: 0.1530\n",
      "Epoch 40: ReduceLROnPlateau reducing learning rate to 9.765625463842298e-07.\n",
      "31/31 [==============================] - 1s 19ms/step - loss: 0.1876 - root_mean_squared_error: 0.1878 - mean_squared_error: 0.0540 - mean_absolute_percentage_error: 73.1167 - mean_absolute_error: 0.1530 - val_loss: 0.4765 - val_root_mean_squared_error: 0.5031 - val_mean_squared_error: 0.2941 - val_mean_absolute_percentage_error: 114.3453 - val_mean_absolute_error: 0.3816 - lr: 1.9531e-06\n",
      "Epoch 41/100\n",
      "31/31 [==============================] - 1s 20ms/step - loss: 0.1846 - root_mean_squared_error: 0.1849 - mean_squared_error: 0.0522 - mean_absolute_percentage_error: 71.5289 - mean_absolute_error: 0.1509 - val_loss: 0.4763 - val_root_mean_squared_error: 0.5030 - val_mean_squared_error: 0.2940 - val_mean_absolute_percentage_error: 114.2863 - val_mean_absolute_error: 0.3815 - lr: 9.7656e-07\n",
      "Epoch 42/100\n",
      "31/31 [==============================] - 1s 20ms/step - loss: 0.1841 - root_mean_squared_error: 0.1844 - mean_squared_error: 0.0524 - mean_absolute_percentage_error: 73.9604 - mean_absolute_error: 0.1503 - val_loss: 0.4762 - val_root_mean_squared_error: 0.5028 - val_mean_squared_error: 0.2939 - val_mean_absolute_percentage_error: 114.2136 - val_mean_absolute_error: 0.3813 - lr: 9.7656e-07\n",
      "Epoch 43/100\n",
      "28/31 [==========================>...] - ETA: 0s - loss: 0.1704 - root_mean_squared_error: 0.1704 - mean_squared_error: 0.0465 - mean_absolute_percentage_error: 64.3865 - mean_absolute_error: 0.1393\n",
      "Epoch 43: ReduceLROnPlateau reducing learning rate to 4.882812731921149e-07.\n",
      "31/31 [==============================] - 1s 20ms/step - loss: 0.1851 - root_mean_squared_error: 0.1853 - mean_squared_error: 0.0526 - mean_absolute_percentage_error: 72.4256 - mean_absolute_error: 0.1510 - val_loss: 0.4759 - val_root_mean_squared_error: 0.5026 - val_mean_squared_error: 0.2937 - val_mean_absolute_percentage_error: 114.1193 - val_mean_absolute_error: 0.3811 - lr: 9.7656e-07\n",
      "Epoch 44/100\n",
      "31/31 [==============================] - 1s 20ms/step - loss: 0.1862 - root_mean_squared_error: 0.1864 - mean_squared_error: 0.0534 - mean_absolute_percentage_error: 72.1787 - mean_absolute_error: 0.1521 - val_loss: 0.4759 - val_root_mean_squared_error: 0.5026 - val_mean_squared_error: 0.2937 - val_mean_absolute_percentage_error: 114.1006 - val_mean_absolute_error: 0.3810 - lr: 4.8828e-07\n",
      "Epoch 45/100\n",
      "31/31 [==============================] - 1s 19ms/step - loss: 0.1871 - root_mean_squared_error: 0.1875 - mean_squared_error: 0.0543 - mean_absolute_percentage_error: 72.2145 - mean_absolute_error: 0.1525 - val_loss: 0.4760 - val_root_mean_squared_error: 0.5026 - val_mean_squared_error: 0.2937 - val_mean_absolute_percentage_error: 114.1261 - val_mean_absolute_error: 0.3811 - lr: 4.8828e-07\n",
      "Epoch 46/100\n",
      "29/31 [===========================>..] - ETA: 0s - loss: 0.1756 - root_mean_squared_error: 0.1756 - mean_squared_error: 0.0488 - mean_absolute_percentage_error: 71.8979 - mean_absolute_error: 0.1434\n",
      "Epoch 46: ReduceLROnPlateau reducing learning rate to 2.4414063659605745e-07.\n",
      "31/31 [==============================] - 1s 19ms/step - loss: 0.1837 - root_mean_squared_error: 0.1839 - mean_squared_error: 0.0521 - mean_absolute_percentage_error: 72.9558 - mean_absolute_error: 0.1498 - val_loss: 0.4760 - val_root_mean_squared_error: 0.5027 - val_mean_squared_error: 0.2938 - val_mean_absolute_percentage_error: 114.1443 - val_mean_absolute_error: 0.3812 - lr: 4.8828e-07\n",
      "Epoch 47/100\n",
      "31/31 [==============================] - 1s 20ms/step - loss: 0.1854 - root_mean_squared_error: 0.1858 - mean_squared_error: 0.0532 - mean_absolute_percentage_error: 71.8207 - mean_absolute_error: 0.1512 - val_loss: 0.4760 - val_root_mean_squared_error: 0.5026 - val_mean_squared_error: 0.2937 - val_mean_absolute_percentage_error: 114.1233 - val_mean_absolute_error: 0.3811 - lr: 2.4414e-07\n",
      "Epoch 48/100\n",
      "31/31 [==============================] - 1s 19ms/step - loss: 0.1834 - root_mean_squared_error: 0.1836 - mean_squared_error: 0.0519 - mean_absolute_percentage_error: 72.6249 - mean_absolute_error: 0.1498 - val_loss: 0.4760 - val_root_mean_squared_error: 0.5026 - val_mean_squared_error: 0.2937 - val_mean_absolute_percentage_error: 114.1228 - val_mean_absolute_error: 0.3811 - lr: 2.4414e-07\n",
      "Epoch 49/100\n",
      "29/31 [===========================>..] - ETA: 0s - loss: 0.1734 - root_mean_squared_error: 0.1734 - mean_squared_error: 0.0483 - mean_absolute_percentage_error: 70.7470 - mean_absolute_error: 0.1413\n",
      "Epoch 49: ReduceLROnPlateau reducing learning rate to 1.2207031829802872e-07.\n",
      "31/31 [==============================] - 1s 19ms/step - loss: 0.1805 - root_mean_squared_error: 0.1808 - mean_squared_error: 0.0508 - mean_absolute_percentage_error: 71.8030 - mean_absolute_error: 0.1470 - val_loss: 0.4759 - val_root_mean_squared_error: 0.5025 - val_mean_squared_error: 0.2937 - val_mean_absolute_percentage_error: 114.0803 - val_mean_absolute_error: 0.3810 - lr: 2.4414e-07\n",
      "Epoch 50/100\n",
      "31/31 [==============================] - 1s 20ms/step - loss: 0.1816 - root_mean_squared_error: 0.1818 - mean_squared_error: 0.0515 - mean_absolute_percentage_error: 72.4489 - mean_absolute_error: 0.1480 - val_loss: 0.4759 - val_root_mean_squared_error: 0.5025 - val_mean_squared_error: 0.2937 - val_mean_absolute_percentage_error: 114.0785 - val_mean_absolute_error: 0.3810 - lr: 1.2207e-07\n",
      "Epoch 51/100\n",
      "31/31 [==============================] - 1s 20ms/step - loss: 0.1852 - root_mean_squared_error: 0.1855 - mean_squared_error: 0.0530 - mean_absolute_percentage_error: 73.4658 - mean_absolute_error: 0.1513 - val_loss: 0.4759 - val_root_mean_squared_error: 0.5025 - val_mean_squared_error: 0.2937 - val_mean_absolute_percentage_error: 114.0777 - val_mean_absolute_error: 0.3810 - lr: 1.2207e-07\n",
      "Epoch 52/100\n",
      "29/31 [===========================>..] - ETA: 0s - loss: 0.1778 - root_mean_squared_error: 0.1778 - mean_squared_error: 0.0501 - mean_absolute_percentage_error: 70.0954 - mean_absolute_error: 0.1452\n",
      "Epoch 52: ReduceLROnPlateau reducing learning rate to 6.103515914901436e-08.\n",
      "31/31 [==============================] - 1s 19ms/step - loss: 0.1855 - root_mean_squared_error: 0.1858 - mean_squared_error: 0.0531 - mean_absolute_percentage_error: 71.2435 - mean_absolute_error: 0.1513 - val_loss: 0.4759 - val_root_mean_squared_error: 0.5025 - val_mean_squared_error: 0.2937 - val_mean_absolute_percentage_error: 114.0778 - val_mean_absolute_error: 0.3810 - lr: 1.2207e-07\n",
      "Epoch 53/100\n"
     ]
    },
    {
     "name": "stdout",
     "output_type": "stream",
     "text": [
      "31/31 [==============================] - 1s 20ms/step - loss: 0.1849 - root_mean_squared_error: 0.1852 - mean_squared_error: 0.0522 - mean_absolute_percentage_error: 73.7485 - mean_absolute_error: 0.1508 - val_loss: 0.4759 - val_root_mean_squared_error: 0.5025 - val_mean_squared_error: 0.2937 - val_mean_absolute_percentage_error: 114.0826 - val_mean_absolute_error: 0.3810 - lr: 6.1035e-08\n",
      "Epoch 54/100\n",
      "31/31 [==============================] - 1s 19ms/step - loss: 0.1851 - root_mean_squared_error: 0.1854 - mean_squared_error: 0.0526 - mean_absolute_percentage_error: 73.7282 - mean_absolute_error: 0.1509 - val_loss: 0.4759 - val_root_mean_squared_error: 0.5025 - val_mean_squared_error: 0.2937 - val_mean_absolute_percentage_error: 114.0791 - val_mean_absolute_error: 0.3810 - lr: 6.1035e-08\n",
      "Epoch 55/100\n",
      "31/31 [==============================] - ETA: 0s - loss: 0.1851 - root_mean_squared_error: 0.1854 - mean_squared_error: 0.0527 - mean_absolute_percentage_error: 72.4685 - mean_absolute_error: 0.1509\n",
      "Epoch 55: ReduceLROnPlateau reducing learning rate to 3.051757957450718e-08.\n",
      "31/31 [==============================] - 1s 20ms/step - loss: 0.1851 - root_mean_squared_error: 0.1854 - mean_squared_error: 0.0527 - mean_absolute_percentage_error: 72.4685 - mean_absolute_error: 0.1509 - val_loss: 0.4759 - val_root_mean_squared_error: 0.5025 - val_mean_squared_error: 0.2937 - val_mean_absolute_percentage_error: 114.0733 - val_mean_absolute_error: 0.3810 - lr: 6.1035e-08\n",
      "Epoch 56/100\n",
      "31/31 [==============================] - 1s 19ms/step - loss: 0.1877 - root_mean_squared_error: 0.1881 - mean_squared_error: 0.0531 - mean_absolute_percentage_error: 72.6786 - mean_absolute_error: 0.1529 - val_loss: 0.4758 - val_root_mean_squared_error: 0.5025 - val_mean_squared_error: 0.2937 - val_mean_absolute_percentage_error: 114.0708 - val_mean_absolute_error: 0.3810 - lr: 3.0518e-08\n",
      "Epoch 57/100\n",
      "31/31 [==============================] - 1s 19ms/step - loss: 0.1835 - root_mean_squared_error: 0.1837 - mean_squared_error: 0.0518 - mean_absolute_percentage_error: 71.0865 - mean_absolute_error: 0.1495 - val_loss: 0.4758 - val_root_mean_squared_error: 0.5025 - val_mean_squared_error: 0.2937 - val_mean_absolute_percentage_error: 114.0715 - val_mean_absolute_error: 0.3810 - lr: 3.0518e-08\n",
      "Epoch 58/100\n",
      "30/31 [============================>.] - ETA: 0s - loss: 0.1843 - root_mean_squared_error: 0.1843 - mean_squared_error: 0.0528 - mean_absolute_percentage_error: 73.0372 - mean_absolute_error: 0.1509\n",
      "Epoch 58: ReduceLROnPlateau reducing learning rate to 1.525878978725359e-08.\n",
      "31/31 [==============================] - 1s 19ms/step - loss: 0.1857 - root_mean_squared_error: 0.1860 - mean_squared_error: 0.0529 - mean_absolute_percentage_error: 71.7883 - mean_absolute_error: 0.1518 - val_loss: 0.4758 - val_root_mean_squared_error: 0.5025 - val_mean_squared_error: 0.2937 - val_mean_absolute_percentage_error: 114.0712 - val_mean_absolute_error: 0.3810 - lr: 3.0518e-08\n",
      "Epoch 59/100\n",
      "31/31 [==============================] - 1s 19ms/step - loss: 0.1841 - root_mean_squared_error: 0.1845 - mean_squared_error: 0.0525 - mean_absolute_percentage_error: 71.6164 - mean_absolute_error: 0.1502 - val_loss: 0.4758 - val_root_mean_squared_error: 0.5025 - val_mean_squared_error: 0.2936 - val_mean_absolute_percentage_error: 114.0701 - val_mean_absolute_error: 0.3810 - lr: 1.5259e-08\n",
      "Epoch 60/100\n",
      "31/31 [==============================] - 1s 18ms/step - loss: 0.1837 - root_mean_squared_error: 0.1840 - mean_squared_error: 0.0512 - mean_absolute_percentage_error: 70.9405 - mean_absolute_error: 0.1499 - val_loss: 0.4758 - val_root_mean_squared_error: 0.5025 - val_mean_squared_error: 0.2937 - val_mean_absolute_percentage_error: 114.0713 - val_mean_absolute_error: 0.3810 - lr: 1.5259e-08\n",
      "Epoch 61/100\n",
      "31/31 [==============================] - ETA: 0s - loss: 0.1829 - root_mean_squared_error: 0.1831 - mean_squared_error: 0.0516 - mean_absolute_percentage_error: 71.6428 - mean_absolute_error: 0.1494\n",
      "Epoch 61: ReduceLROnPlateau reducing learning rate to 7.629394893626795e-09.\n",
      "31/31 [==============================] - 1s 20ms/step - loss: 0.1829 - root_mean_squared_error: 0.1831 - mean_squared_error: 0.0516 - mean_absolute_percentage_error: 71.6428 - mean_absolute_error: 0.1494 - val_loss: 0.4758 - val_root_mean_squared_error: 0.5025 - val_mean_squared_error: 0.2937 - val_mean_absolute_percentage_error: 114.0708 - val_mean_absolute_error: 0.3810 - lr: 1.5259e-08\n",
      "Epoch 62/100\n",
      "31/31 [==============================] - 1s 19ms/step - loss: 0.1835 - root_mean_squared_error: 0.1838 - mean_squared_error: 0.0516 - mean_absolute_percentage_error: 73.7619 - mean_absolute_error: 0.1497 - val_loss: 0.4758 - val_root_mean_squared_error: 0.5025 - val_mean_squared_error: 0.2937 - val_mean_absolute_percentage_error: 114.0705 - val_mean_absolute_error: 0.3810 - lr: 7.6294e-09\n",
      "Epoch 63/100\n",
      "31/31 [==============================] - 1s 19ms/step - loss: 0.1859 - root_mean_squared_error: 0.1861 - mean_squared_error: 0.0533 - mean_absolute_percentage_error: 72.4490 - mean_absolute_error: 0.1518 - val_loss: 0.4758 - val_root_mean_squared_error: 0.5025 - val_mean_squared_error: 0.2937 - val_mean_absolute_percentage_error: 114.0704 - val_mean_absolute_error: 0.3810 - lr: 7.6294e-09\n",
      "Epoch 64/100\n",
      "30/31 [============================>.] - ETA: 0s - loss: 0.1834 - root_mean_squared_error: 0.1834 - mean_squared_error: 0.0524 - mean_absolute_percentage_error: 73.4439 - mean_absolute_error: 0.1493\n",
      "Epoch 64: ReduceLROnPlateau reducing learning rate to 3.814697446813398e-09.\n",
      "31/31 [==============================] - 1s 19ms/step - loss: 0.1847 - root_mean_squared_error: 0.1850 - mean_squared_error: 0.0524 - mean_absolute_percentage_error: 72.1775 - mean_absolute_error: 0.1502 - val_loss: 0.4758 - val_root_mean_squared_error: 0.5025 - val_mean_squared_error: 0.2937 - val_mean_absolute_percentage_error: 114.0702 - val_mean_absolute_error: 0.3810 - lr: 7.6294e-09\n",
      "Epoch 65/100\n",
      "31/31 [==============================] - 1s 19ms/step - loss: 0.1846 - root_mean_squared_error: 0.1849 - mean_squared_error: 0.0521 - mean_absolute_percentage_error: 73.4994 - mean_absolute_error: 0.1504 - val_loss: 0.4758 - val_root_mean_squared_error: 0.5025 - val_mean_squared_error: 0.2936 - val_mean_absolute_percentage_error: 114.0702 - val_mean_absolute_error: 0.3810 - lr: 3.8147e-09\n",
      "Epoch 66/100\n",
      "31/31 [==============================] - 1s 19ms/step - loss: 0.1863 - root_mean_squared_error: 0.1866 - mean_squared_error: 0.0533 - mean_absolute_percentage_error: 71.8391 - mean_absolute_error: 0.1519 - val_loss: 0.4758 - val_root_mean_squared_error: 0.5025 - val_mean_squared_error: 0.2936 - val_mean_absolute_percentage_error: 114.0700 - val_mean_absolute_error: 0.3810 - lr: 3.8147e-09\n",
      "Epoch 67/100\n",
      "30/31 [============================>.] - ETA: 0s - loss: 0.1843 - root_mean_squared_error: 0.1843 - mean_squared_error: 0.0535 - mean_absolute_percentage_error: 72.6778 - mean_absolute_error: 0.1505\n",
      "Epoch 67: ReduceLROnPlateau reducing learning rate to 1.907348723406699e-09.\n",
      "31/31 [==============================] - 1s 19ms/step - loss: 0.1855 - root_mean_squared_error: 0.1858 - mean_squared_error: 0.0535 - mean_absolute_percentage_error: 71.4209 - mean_absolute_error: 0.1513 - val_loss: 0.4758 - val_root_mean_squared_error: 0.5025 - val_mean_squared_error: 0.2936 - val_mean_absolute_percentage_error: 114.0699 - val_mean_absolute_error: 0.3810 - lr: 3.8147e-09\n",
      "Epoch 68/100\n",
      "31/31 [==============================] - 1s 19ms/step - loss: 0.1839 - root_mean_squared_error: 0.1840 - mean_squared_error: 0.0525 - mean_absolute_percentage_error: 72.1340 - mean_absolute_error: 0.1498 - val_loss: 0.4758 - val_root_mean_squared_error: 0.5025 - val_mean_squared_error: 0.2936 - val_mean_absolute_percentage_error: 114.0699 - val_mean_absolute_error: 0.3810 - lr: 1.9073e-09\n",
      "Epoch 69/100\n",
      "31/31 [==============================] - 1s 20ms/step - loss: 0.1848 - root_mean_squared_error: 0.1853 - mean_squared_error: 0.0525 - mean_absolute_percentage_error: 72.0623 - mean_absolute_error: 0.1505 - val_loss: 0.4758 - val_root_mean_squared_error: 0.5025 - val_mean_squared_error: 0.2936 - val_mean_absolute_percentage_error: 114.0699 - val_mean_absolute_error: 0.3810 - lr: 1.9073e-09\n"
     ]
    },
    {
     "name": "stdout",
     "output_type": "stream",
     "text": [
      "Epoch 70/100\n",
      "29/31 [===========================>..] - ETA: 0s - loss: 0.1800 - root_mean_squared_error: 0.1800 - mean_squared_error: 0.0508 - mean_absolute_percentage_error: 73.6139 - mean_absolute_error: 0.1473\n",
      "Epoch 70: ReduceLROnPlateau reducing learning rate to 9.536743617033494e-10.\n",
      "31/31 [==============================] - 1s 20ms/step - loss: 0.1875 - root_mean_squared_error: 0.1878 - mean_squared_error: 0.0536 - mean_absolute_percentage_error: 74.4862 - mean_absolute_error: 0.1531 - val_loss: 0.4758 - val_root_mean_squared_error: 0.5025 - val_mean_squared_error: 0.2936 - val_mean_absolute_percentage_error: 114.0699 - val_mean_absolute_error: 0.3810 - lr: 1.9073e-09\n",
      "Epoch 71/100\n",
      "31/31 [==============================] - 1s 19ms/step - loss: 0.1850 - root_mean_squared_error: 0.1853 - mean_squared_error: 0.0521 - mean_absolute_percentage_error: 71.8757 - mean_absolute_error: 0.1513 - val_loss: 0.4758 - val_root_mean_squared_error: 0.5025 - val_mean_squared_error: 0.2936 - val_mean_absolute_percentage_error: 114.0699 - val_mean_absolute_error: 0.3810 - lr: 9.5367e-10\n",
      "Epoch 72/100\n",
      "31/31 [==============================] - 1s 19ms/step - loss: 0.1858 - root_mean_squared_error: 0.1862 - mean_squared_error: 0.0525 - mean_absolute_percentage_error: 72.6533 - mean_absolute_error: 0.1517 - val_loss: 0.4758 - val_root_mean_squared_error: 0.5025 - val_mean_squared_error: 0.2936 - val_mean_absolute_percentage_error: 114.0699 - val_mean_absolute_error: 0.3810 - lr: 9.5367e-10\n",
      "Epoch 73/100\n",
      "29/31 [===========================>..] - ETA: 0s - loss: 0.1769 - root_mean_squared_error: 0.1769 - mean_squared_error: 0.0495 - mean_absolute_percentage_error: 71.0743 - mean_absolute_error: 0.1444\n",
      "Epoch 73: ReduceLROnPlateau reducing learning rate to 4.768371808516747e-10.\n",
      "31/31 [==============================] - 1s 19ms/step - loss: 0.1854 - root_mean_squared_error: 0.1858 - mean_squared_error: 0.0529 - mean_absolute_percentage_error: 72.2487 - mean_absolute_error: 0.1510 - val_loss: 0.4758 - val_root_mean_squared_error: 0.5025 - val_mean_squared_error: 0.2936 - val_mean_absolute_percentage_error: 114.0699 - val_mean_absolute_error: 0.3810 - lr: 9.5367e-10\n",
      "Epoch 74/100\n",
      "31/31 [==============================] - 1s 19ms/step - loss: 0.1833 - root_mean_squared_error: 0.1835 - mean_squared_error: 0.0517 - mean_absolute_percentage_error: 71.3920 - mean_absolute_error: 0.1500 - val_loss: 0.4758 - val_root_mean_squared_error: 0.5025 - val_mean_squared_error: 0.2936 - val_mean_absolute_percentage_error: 114.0699 - val_mean_absolute_error: 0.3810 - lr: 4.7684e-10\n",
      "Epoch 75/100\n",
      "31/31 [==============================] - 1s 19ms/step - loss: 0.1863 - root_mean_squared_error: 0.1866 - mean_squared_error: 0.0530 - mean_absolute_percentage_error: 70.6514 - mean_absolute_error: 0.1518 - val_loss: 0.4758 - val_root_mean_squared_error: 0.5025 - val_mean_squared_error: 0.2936 - val_mean_absolute_percentage_error: 114.0699 - val_mean_absolute_error: 0.3810 - lr: 4.7684e-10\n",
      "Epoch 76/100\n",
      "30/31 [============================>.] - ETA: 0s - loss: 0.1832 - root_mean_squared_error: 0.1832 - mean_squared_error: 0.0523 - mean_absolute_percentage_error: 73.8869 - mean_absolute_error: 0.1491\n",
      "Epoch 76: ReduceLROnPlateau reducing learning rate to 2.3841859042583735e-10.\n",
      "31/31 [==============================] - 1s 20ms/step - loss: 0.1846 - root_mean_squared_error: 0.1849 - mean_squared_error: 0.0523 - mean_absolute_percentage_error: 72.6142 - mean_absolute_error: 0.1500 - val_loss: 0.4758 - val_root_mean_squared_error: 0.5025 - val_mean_squared_error: 0.2936 - val_mean_absolute_percentage_error: 114.0699 - val_mean_absolute_error: 0.3810 - lr: 4.7684e-10\n",
      "Epoch 77/100\n",
      "31/31 [==============================] - 1s 19ms/step - loss: 0.1844 - root_mean_squared_error: 0.1846 - mean_squared_error: 0.0520 - mean_absolute_percentage_error: 72.1953 - mean_absolute_error: 0.1500 - val_loss: 0.4758 - val_root_mean_squared_error: 0.5025 - val_mean_squared_error: 0.2936 - val_mean_absolute_percentage_error: 114.0699 - val_mean_absolute_error: 0.3810 - lr: 2.3842e-10\n",
      "Epoch 78/100\n",
      "31/31 [==============================] - 1s 19ms/step - loss: 0.1852 - root_mean_squared_error: 0.1857 - mean_squared_error: 0.0528 - mean_absolute_percentage_error: 72.6560 - mean_absolute_error: 0.1512 - val_loss: 0.4758 - val_root_mean_squared_error: 0.5025 - val_mean_squared_error: 0.2936 - val_mean_absolute_percentage_error: 114.0699 - val_mean_absolute_error: 0.3810 - lr: 2.3842e-10\n",
      "Epoch 79/100\n",
      "29/31 [===========================>..] - ETA: 0s - loss: 0.1780 - root_mean_squared_error: 0.1780 - mean_squared_error: 0.0491 - mean_absolute_percentage_error: 71.0885 - mean_absolute_error: 0.1457\n",
      "Epoch 79: ReduceLROnPlateau reducing learning rate to 1.1920929521291868e-10.\n",
      "31/31 [==============================] - 1s 20ms/step - loss: 0.1863 - root_mean_squared_error: 0.1866 - mean_squared_error: 0.0525 - mean_absolute_percentage_error: 72.2351 - mean_absolute_error: 0.1522 - val_loss: 0.4758 - val_root_mean_squared_error: 0.5025 - val_mean_squared_error: 0.2936 - val_mean_absolute_percentage_error: 114.0699 - val_mean_absolute_error: 0.3810 - lr: 2.3842e-10\n",
      "Epoch 80/100\n",
      "31/31 [==============================] - 1s 19ms/step - loss: 0.1851 - root_mean_squared_error: 0.1853 - mean_squared_error: 0.0525 - mean_absolute_percentage_error: 72.3449 - mean_absolute_error: 0.1510 - val_loss: 0.4758 - val_root_mean_squared_error: 0.5025 - val_mean_squared_error: 0.2936 - val_mean_absolute_percentage_error: 114.0699 - val_mean_absolute_error: 0.3810 - lr: 1.1921e-10\n",
      "Epoch 81/100\n",
      "31/31 [==============================] - 1s 20ms/step - loss: 0.1848 - root_mean_squared_error: 0.1851 - mean_squared_error: 0.0527 - mean_absolute_percentage_error: 73.1706 - mean_absolute_error: 0.1509 - val_loss: 0.4758 - val_root_mean_squared_error: 0.5025 - val_mean_squared_error: 0.2936 - val_mean_absolute_percentage_error: 114.0699 - val_mean_absolute_error: 0.3810 - lr: 1.1921e-10\n",
      "Epoch 82/100\n",
      "28/31 [==========================>...] - ETA: 0s - loss: 0.1709 - root_mean_squared_error: 0.1709 - mean_squared_error: 0.0470 - mean_absolute_percentage_error: 64.2647 - mean_absolute_error: 0.1395\n",
      "Epoch 82: ReduceLROnPlateau reducing learning rate to 1e-10.\n",
      "31/31 [==============================] - 1s 19ms/step - loss: 0.1852 - root_mean_squared_error: 0.1855 - mean_squared_error: 0.0529 - mean_absolute_percentage_error: 72.3709 - mean_absolute_error: 0.1509 - val_loss: 0.4758 - val_root_mean_squared_error: 0.5025 - val_mean_squared_error: 0.2936 - val_mean_absolute_percentage_error: 114.0699 - val_mean_absolute_error: 0.3810 - lr: 1.1921e-10\n",
      "Epoch 83/100\n",
      "31/31 [==============================] - 1s 19ms/step - loss: 0.1837 - root_mean_squared_error: 0.1840 - mean_squared_error: 0.0518 - mean_absolute_percentage_error: 71.1005 - mean_absolute_error: 0.1497 - val_loss: 0.4758 - val_root_mean_squared_error: 0.5025 - val_mean_squared_error: 0.2936 - val_mean_absolute_percentage_error: 114.0699 - val_mean_absolute_error: 0.3810 - lr: 1.0000e-10\n",
      "Epoch 84/100\n",
      "31/31 [==============================] - 1s 19ms/step - loss: 0.1850 - root_mean_squared_error: 0.1854 - mean_squared_error: 0.0524 - mean_absolute_percentage_error: 72.4980 - mean_absolute_error: 0.1508 - val_loss: 0.4758 - val_root_mean_squared_error: 0.5025 - val_mean_squared_error: 0.2936 - val_mean_absolute_percentage_error: 114.0699 - val_mean_absolute_error: 0.3810 - lr: 1.0000e-10\n",
      "Epoch 85/100\n",
      "31/31 [==============================] - 1s 19ms/step - loss: 0.1832 - root_mean_squared_error: 0.1834 - mean_squared_error: 0.0514 - mean_absolute_percentage_error: 70.9892 - mean_absolute_error: 0.1498 - val_loss: 0.4758 - val_root_mean_squared_error: 0.5025 - val_mean_squared_error: 0.2936 - val_mean_absolute_percentage_error: 114.0699 - val_mean_absolute_error: 0.3810 - lr: 1.0000e-10\n",
      "Epoch 86/100\n",
      "31/31 [==============================] - 1s 19ms/step - loss: 0.1851 - root_mean_squared_error: 0.1855 - mean_squared_error: 0.0529 - mean_absolute_percentage_error: 72.5229 - mean_absolute_error: 0.1510 - val_loss: 0.4758 - val_root_mean_squared_error: 0.5025 - val_mean_squared_error: 0.2936 - val_mean_absolute_percentage_error: 114.0699 - val_mean_absolute_error: 0.3810 - lr: 1.0000e-10\n"
     ]
    },
    {
     "name": "stdout",
     "output_type": "stream",
     "text": [
      "Epoch 87/100\n",
      "31/31 [==============================] - 1s 19ms/step - loss: 0.1859 - root_mean_squared_error: 0.1860 - mean_squared_error: 0.0533 - mean_absolute_percentage_error: 72.1127 - mean_absolute_error: 0.1516 - val_loss: 0.4758 - val_root_mean_squared_error: 0.5025 - val_mean_squared_error: 0.2936 - val_mean_absolute_percentage_error: 114.0699 - val_mean_absolute_error: 0.3810 - lr: 1.0000e-10\n",
      "Epoch 88/100\n",
      "31/31 [==============================] - 1s 19ms/step - loss: 0.1843 - root_mean_squared_error: 0.1845 - mean_squared_error: 0.0516 - mean_absolute_percentage_error: 70.4248 - mean_absolute_error: 0.1507 - val_loss: 0.4758 - val_root_mean_squared_error: 0.5025 - val_mean_squared_error: 0.2936 - val_mean_absolute_percentage_error: 114.0699 - val_mean_absolute_error: 0.3810 - lr: 1.0000e-10\n",
      "Epoch 89/100\n",
      "31/31 [==============================] - 1s 19ms/step - loss: 0.1812 - root_mean_squared_error: 0.1815 - mean_squared_error: 0.0509 - mean_absolute_percentage_error: 70.7893 - mean_absolute_error: 0.1478 - val_loss: 0.4758 - val_root_mean_squared_error: 0.5025 - val_mean_squared_error: 0.2936 - val_mean_absolute_percentage_error: 114.0699 - val_mean_absolute_error: 0.3810 - lr: 1.0000e-10\n",
      "Epoch 90/100\n",
      "31/31 [==============================] - 1s 19ms/step - loss: 0.1866 - root_mean_squared_error: 0.1870 - mean_squared_error: 0.0537 - mean_absolute_percentage_error: 72.1667 - mean_absolute_error: 0.1518 - val_loss: 0.4758 - val_root_mean_squared_error: 0.5025 - val_mean_squared_error: 0.2936 - val_mean_absolute_percentage_error: 114.0699 - val_mean_absolute_error: 0.3810 - lr: 1.0000e-10\n",
      "Epoch 91/100\n",
      "31/31 [==============================] - 1s 19ms/step - loss: 0.1851 - root_mean_squared_error: 0.1854 - mean_squared_error: 0.0532 - mean_absolute_percentage_error: 71.5104 - mean_absolute_error: 0.1507 - val_loss: 0.4758 - val_root_mean_squared_error: 0.5025 - val_mean_squared_error: 0.2936 - val_mean_absolute_percentage_error: 114.0699 - val_mean_absolute_error: 0.3810 - lr: 1.0000e-10\n",
      "Epoch 92/100\n",
      "31/31 [==============================] - 1s 19ms/step - loss: 0.1859 - root_mean_squared_error: 0.1861 - mean_squared_error: 0.0532 - mean_absolute_percentage_error: 73.8466 - mean_absolute_error: 0.1519 - val_loss: 0.4758 - val_root_mean_squared_error: 0.5025 - val_mean_squared_error: 0.2936 - val_mean_absolute_percentage_error: 114.0699 - val_mean_absolute_error: 0.3810 - lr: 1.0000e-10\n",
      "Epoch 93/100\n",
      "31/31 [==============================] - 1s 19ms/step - loss: 0.1859 - root_mean_squared_error: 0.1862 - mean_squared_error: 0.0536 - mean_absolute_percentage_error: 73.4756 - mean_absolute_error: 0.1515 - val_loss: 0.4758 - val_root_mean_squared_error: 0.5025 - val_mean_squared_error: 0.2936 - val_mean_absolute_percentage_error: 114.0699 - val_mean_absolute_error: 0.3810 - lr: 1.0000e-10\n",
      "Epoch 94/100\n",
      "31/31 [==============================] - 1s 19ms/step - loss: 0.1854 - root_mean_squared_error: 0.1857 - mean_squared_error: 0.0530 - mean_absolute_percentage_error: 73.2364 - mean_absolute_error: 0.1508 - val_loss: 0.4758 - val_root_mean_squared_error: 0.5025 - val_mean_squared_error: 0.2936 - val_mean_absolute_percentage_error: 114.0699 - val_mean_absolute_error: 0.3810 - lr: 1.0000e-10\n",
      "Epoch 95/100\n",
      "31/31 [==============================] - 1s 19ms/step - loss: 0.1856 - root_mean_squared_error: 0.1858 - mean_squared_error: 0.0533 - mean_absolute_percentage_error: 73.5516 - mean_absolute_error: 0.1514 - val_loss: 0.4758 - val_root_mean_squared_error: 0.5025 - val_mean_squared_error: 0.2936 - val_mean_absolute_percentage_error: 114.0699 - val_mean_absolute_error: 0.3810 - lr: 1.0000e-10\n",
      "Epoch 96/100\n",
      "31/31 [==============================] - 1s 19ms/step - loss: 0.1863 - root_mean_squared_error: 0.1867 - mean_squared_error: 0.0527 - mean_absolute_percentage_error: 72.0544 - mean_absolute_error: 0.1517 - val_loss: 0.4758 - val_root_mean_squared_error: 0.5025 - val_mean_squared_error: 0.2936 - val_mean_absolute_percentage_error: 114.0699 - val_mean_absolute_error: 0.3810 - lr: 1.0000e-10\n",
      "Epoch 97/100\n",
      "31/31 [==============================] - 1s 20ms/step - loss: 0.1860 - root_mean_squared_error: 0.1862 - mean_squared_error: 0.0527 - mean_absolute_percentage_error: 74.8860 - mean_absolute_error: 0.1517 - val_loss: 0.4758 - val_root_mean_squared_error: 0.5025 - val_mean_squared_error: 0.2936 - val_mean_absolute_percentage_error: 114.0699 - val_mean_absolute_error: 0.3810 - lr: 1.0000e-10\n",
      "Epoch 98/100\n",
      "31/31 [==============================] - 1s 19ms/step - loss: 0.1816 - root_mean_squared_error: 0.1818 - mean_squared_error: 0.0513 - mean_absolute_percentage_error: 71.0931 - mean_absolute_error: 0.1483 - val_loss: 0.4758 - val_root_mean_squared_error: 0.5025 - val_mean_squared_error: 0.2936 - val_mean_absolute_percentage_error: 114.0699 - val_mean_absolute_error: 0.3810 - lr: 1.0000e-10\n",
      "Epoch 99/100\n",
      "31/31 [==============================] - 1s 19ms/step - loss: 0.1833 - root_mean_squared_error: 0.1835 - mean_squared_error: 0.0523 - mean_absolute_percentage_error: 71.3317 - mean_absolute_error: 0.1497 - val_loss: 0.4758 - val_root_mean_squared_error: 0.5025 - val_mean_squared_error: 0.2936 - val_mean_absolute_percentage_error: 114.0699 - val_mean_absolute_error: 0.3810 - lr: 1.0000e-10\n",
      "Epoch 100/100\n",
      "31/31 [==============================] - 1s 19ms/step - loss: 0.1853 - root_mean_squared_error: 0.1856 - mean_squared_error: 0.0525 - mean_absolute_percentage_error: 72.0618 - mean_absolute_error: 0.1510 - val_loss: 0.4758 - val_root_mean_squared_error: 0.5025 - val_mean_squared_error: 0.2936 - val_mean_absolute_percentage_error: 114.0699 - val_mean_absolute_error: 0.3810 - lr: 1.0000e-10\n"
     ]
    }
   ],
   "source": [
    "history = model.fit(X_train, Y_train, validation_data = (X_val, Y_val), epochs=100, batch_size=16,  verbose=1, shuffle=False ,callbacks=[learning_rate_reduction])"
   ]
  },
  {
   "cell_type": "code",
   "execution_count": 12,
   "metadata": {},
   "outputs": [
    {
     "name": "stdout",
     "output_type": "stream",
     "text": [
      "dict_keys(['loss', 'root_mean_squared_error', 'mean_squared_error', 'mean_absolute_percentage_error', 'mean_absolute_error', 'val_loss', 'val_root_mean_squared_error', 'val_mean_squared_error', 'val_mean_absolute_percentage_error', 'val_mean_absolute_error', 'lr'])\n"
     ]
    },
    {
     "data": {
      "image/png": "[encoded data removed]",
      "text/plain": [
       "<Figure size 432x288 with 1 Axes>"
      ]
     },
     "metadata": {
      "needs_background": "light"
     },
     "output_type": "display_data"
    }
   ],
   "source": [
    "#Visualizing the Loss over epochs\n",
    "print(history.history.keys())\n",
    "plt.plot(history.history['loss'])\n",
    "plt.plot(history.history['val_loss'])\n",
    "plt.title('model loss')\n",
    "plt.ylabel('loss')\n",
    "plt.xlabel('epoch')\n",
    "plt.legend(['train', 'validation'], loc='upper right')\n",
    "plt.show()"
   ]
  },
  {
   "cell_type": "code",
   "execution_count": 13,
   "metadata": {},
   "outputs": [
    {
     "name": "stdout",
     "output_type": "stream",
     "text": [
      "4/4 [==============================] - 0s 5ms/step - loss: 0.5798 - root_mean_squared_error: 0.5947 - mean_squared_error: 0.4013 - mean_absolute_percentage_error: 140.7270 - mean_absolute_error: 0.4414\n"
     ]
    },
    {
     "data": {
      "text/plain": [
       "[0.5797671675682068,\n",
       " 0.5947450399398804,\n",
       " 0.40128833055496216,\n",
       " 140.7269744873047,\n",
       " 0.4414207935333252]"
      ]
     },
     "execution_count": 13,
     "metadata": {},
     "output_type": "execute_result"
    }
   ],
   "source": [
    "model.evaluate(X_val,Y_val) #Results from MSE"
   ]
  },
  {
   "cell_type": "code",
   "execution_count": 14,
   "metadata": {},
   "outputs": [
    {
     "name": "stdout",
     "output_type": "stream",
     "text": [
      "1/1 [==============================] - 0s 31ms/step - loss: 2.1757 - root_mean_squared_error: 2.1757 - mean_squared_error: 4.7335 - mean_absolute_percentage_error: 50.5888 - mean_absolute_error: 2.1143\n"
     ]
    },
    {
     "data": {
      "text/plain": [
       "[2.1756699085235596,\n",
       " 2.1756699085235596,\n",
       " 4.733539581298828,\n",
       " 50.58880615234375,\n",
       " 2.114250421524048]"
      ]
     },
     "execution_count": 14,
     "metadata": {},
     "output_type": "execute_result"
    }
   ],
   "source": [
    "model.evaluate(reshape_data(x_test, timesteps=1),reshape_data(y_test, timesteps=1))"
   ]
  },
  {
   "cell_type": "code",
   "execution_count": 15,
   "metadata": {},
   "outputs": [
    {
     "name": "stdout",
     "output_type": "stream",
     "text": [
      "4/4 [==============================] - 0s 4ms/step - loss: 0.5798 - root_mean_squared_error: 0.5947 - mean_squared_error: 0.4013 - mean_absolute_percentage_error: 140.7270 - mean_absolute_error: 0.4414\n"
     ]
    },
    {
     "data": {
      "text/plain": [
       "[0.5797671675682068,\n",
       " 0.5947450399398804,\n",
       " 0.40128833055496216,\n",
       " 140.7269744873047,\n",
       " 0.4414207935333252]"
      ]
     },
     "execution_count": 15,
     "metadata": {},
     "output_type": "execute_result"
    }
   ],
   "source": [
    "model.evaluate(X_val,Y_val) "
   ]
  },
  {
   "cell_type": "code",
   "execution_count": 16,
   "metadata": {},
   "outputs": [
    {
     "name": "stdout",
     "output_type": "stream",
     "text": [
      "1/1 [==============================] - 0s 16ms/step - loss: 2.1757 - root_mean_squared_error: 2.1757 - mean_squared_error: 4.7335 - mean_absolute_percentage_error: 50.5888 - mean_absolute_error: 2.1143\n"
     ]
    },
    {
     "data": {
      "text/plain": [
       "[2.1756699085235596,\n",
       " 2.1756699085235596,\n",
       " 4.733539581298828,\n",
       " 50.58880615234375,\n",
       " 2.114250421524048]"
      ]
     },
     "execution_count": 16,
     "metadata": {},
     "output_type": "execute_result"
    }
   ],
   "source": [
    "model.evaluate(reshape_data(x_test, timesteps=1),reshape_data(y_test, timesteps=1))"
   ]
  },
  {
   "cell_type": "code",
   "execution_count": 17,
   "metadata": {},
   "outputs": [
    {
     "data": {
      "text/html": [
       "<div>\n",
       "<style scoped>\n",
       "    .dataframe tbody tr th:only-of-type {\n",
       "        vertical-align: middle;\n",
       "    }\n",
       "\n",
       "    .dataframe tbody tr th {\n",
       "        vertical-align: top;\n",
       "    }\n",
       "\n",
       "    .dataframe thead th {\n",
       "        text-align: right;\n",
       "    }\n",
       "</style>\n",
       "<table border=\"1\" class=\"dataframe\">\n",
       "  <thead>\n",
       "    <tr style=\"text-align: right;\">\n",
       "      <th></th>\n",
       "      <th>metrics.caseDensity(t)</th>\n",
       "      <th>metrics.caseDensity(t+1)</th>\n",
       "      <th>metrics.caseDensity(t+2)</th>\n",
       "      <th>metrics.caseDensity(t+3)</th>\n",
       "      <th>metrics.caseDensity(t+4)</th>\n",
       "      <th>metrics.caseDensity(t+5)</th>\n",
       "      <th>metrics.caseDensity(t+6)</th>\n",
       "    </tr>\n",
       "    <tr>\n",
       "      <th>date</th>\n",
       "      <th></th>\n",
       "      <th></th>\n",
       "      <th></th>\n",
       "      <th></th>\n",
       "      <th></th>\n",
       "      <th></th>\n",
       "      <th></th>\n",
       "    </tr>\n",
       "  </thead>\n",
       "  <tbody>\n",
       "    <tr>\n",
       "      <th>2022-01-03</th>\n",
       "      <td>1.760992</td>\n",
       "      <td>1.661288</td>\n",
       "      <td>1.84661</td>\n",
       "      <td>2.030172</td>\n",
       "      <td>2.246275</td>\n",
       "      <td>2.327744</td>\n",
       "      <td>2.230077</td>\n",
       "    </tr>\n",
       "  </tbody>\n",
       "</table>\n",
       "</div>"
      ],
      "text/plain": [
       "            metrics.caseDensity(t)  metrics.caseDensity(t+1)  \\\n",
       "date                                                           \n",
       "2022-01-03                1.760992                  1.661288   \n",
       "\n",
       "            metrics.caseDensity(t+2)  metrics.caseDensity(t+3)  \\\n",
       "date                                                             \n",
       "2022-01-03                   1.84661                  2.030172   \n",
       "\n",
       "            metrics.caseDensity(t+4)  metrics.caseDensity(t+5)  \\\n",
       "date                                                             \n",
       "2022-01-03                  2.246275                  2.327744   \n",
       "\n",
       "            metrics.caseDensity(t+6)  \n",
       "date                                  \n",
       "2022-01-03                  2.230077  "
      ]
     },
     "execution_count": 17,
     "metadata": {},
     "output_type": "execute_result"
    }
   ],
   "source": [
    "col = y_test.columns\n",
    "y_pred = model.predict(reshape_data(x_test, timesteps=1))\n",
    "y_pred_df=pd.DataFrame()\n",
    "y_pred_df[col] = y_pred\n",
    "y_pred_df.index = y_test.index\n",
    "y_pred_df.head()"
   ]
  },
  {
   "cell_type": "code",
   "execution_count": 18,
   "metadata": {},
   "outputs": [
    {
     "data": {
      "text/html": [
       "<div>\n",
       "<style scoped>\n",
       "    .dataframe tbody tr th:only-of-type {\n",
       "        vertical-align: middle;\n",
       "    }\n",
       "\n",
       "    .dataframe tbody tr th {\n",
       "        vertical-align: top;\n",
       "    }\n",
       "\n",
       "    .dataframe thead th {\n",
       "        text-align: right;\n",
       "    }\n",
       "</style>\n",
       "<table border=\"1\" class=\"dataframe\">\n",
       "  <thead>\n",
       "    <tr style=\"text-align: right;\">\n",
       "      <th></th>\n",
       "      <th>metrics.caseDensity(t)</th>\n",
       "      <th>metrics.caseDensity(t+1)</th>\n",
       "      <th>metrics.caseDensity(t+2)</th>\n",
       "      <th>metrics.caseDensity(t+3)</th>\n",
       "      <th>metrics.caseDensity(t+4)</th>\n",
       "      <th>metrics.caseDensity(t+5)</th>\n",
       "      <th>metrics.caseDensity(t+6)</th>\n",
       "    </tr>\n",
       "    <tr>\n",
       "      <th>date</th>\n",
       "      <th></th>\n",
       "      <th></th>\n",
       "      <th></th>\n",
       "      <th></th>\n",
       "      <th></th>\n",
       "      <th></th>\n",
       "      <th></th>\n",
       "    </tr>\n",
       "  </thead>\n",
       "  <tbody>\n",
       "    <tr>\n",
       "      <th>2022-01-03</th>\n",
       "      <td>2.998285</td>\n",
       "      <td>3.382862</td>\n",
       "      <td>3.773047</td>\n",
       "      <td>4.139958</td>\n",
       "      <td>4.579833</td>\n",
       "      <td>4.882025</td>\n",
       "      <td>5.1469</td>\n",
       "    </tr>\n",
       "  </tbody>\n",
       "</table>\n",
       "</div>"
      ],
      "text/plain": [
       "            metrics.caseDensity(t)  metrics.caseDensity(t+1)  \\\n",
       "date                                                           \n",
       "2022-01-03                2.998285                  3.382862   \n",
       "\n",
       "            metrics.caseDensity(t+2)  metrics.caseDensity(t+3)  \\\n",
       "date                                                             \n",
       "2022-01-03                  3.773047                  4.139958   \n",
       "\n",
       "            metrics.caseDensity(t+4)  metrics.caseDensity(t+5)  \\\n",
       "date                                                             \n",
       "2022-01-03                  4.579833                  4.882025   \n",
       "\n",
       "            metrics.caseDensity(t+6)  \n",
       "date                                  \n",
       "2022-01-03                    5.1469  "
      ]
     },
     "execution_count": 18,
     "metadata": {},
     "output_type": "execute_result"
    }
   ],
   "source": [
    "y_test.head()"
   ]
  },
  {
   "cell_type": "markdown",
   "metadata": {},
   "source": [
    "## Rescaling the value and Plotting\n"
   ]
  },
  {
   "cell_type": "code",
   "execution_count": 19,
   "metadata": {},
   "outputs": [
    {
     "data": {
      "text/plain": [
       "(87708.1127131783, 69948.04441944878)"
      ]
     },
     "execution_count": 19,
     "metadata": {},
     "output_type": "execute_result"
    }
   ],
   "source": [
    "import json\n",
    "file_path = \"daily_data_scaling_inforamtion.json\"\n",
    "with open (file_path) as file:\n",
    "    data = json.load(file)\n",
    "cases_mean = data['cases_mean']\n",
    "cases_std = data['cases_std']\n",
    "cases_mean, cases_std"
   ]
  },
  {
   "cell_type": "code",
   "execution_count": 20,
   "metadata": {},
   "outputs": [],
   "source": [
    "def rescaling_cases(df,cases_mean,cases_std):\n",
    "    rescaled_df = pd.DataFrame()\n",
    "    for feature in df.columns:\n",
    "        rescaled_df[[feature]] = (df[[feature]]*cases_std) + cases_mean\n",
    "    return rescaled_df\n",
    "        \n",
    "rescaled_y_test = rescaling_cases(y_test,cases_mean,cases_std)\n",
    "rescaled_y_pred_df = rescaling_cases(y_pred_df,cases_mean,cases_std)"
   ]
  },
  {
   "cell_type": "code",
   "execution_count": 21,
   "metadata": {},
   "outputs": [
    {
     "data": {
      "text/plain": [
       "(1, 7)"
      ]
     },
     "execution_count": 21,
     "metadata": {},
     "output_type": "execute_result"
    }
   ],
   "source": [
    "rescaled_y_pred_df.shape"
   ]
  },
  {
   "cell_type": "code",
   "execution_count": 22,
   "metadata": {},
   "outputs": [
    {
     "data": {
      "text/plain": [
       "(1, 7)"
      ]
     },
     "execution_count": 22,
     "metadata": {},
     "output_type": "execute_result"
    }
   ],
   "source": [
    "rescaled_y_test.shape"
   ]
  },
  {
   "cell_type": "code",
   "execution_count": 23,
   "metadata": {},
   "outputs": [],
   "source": [
    "def create_weekly_prediction(df): \n",
    "    indices = df.index.tolist()\n",
    "\n",
    "    results = []\n",
    "    for index in range(len(indices)):\n",
    "        if index ==0 or (index+1)%7==0:\n",
    "            results+=df.loc[indices[index]].tolist()\n",
    "             \n",
    "    results = results[0:len(indices)] #Removing the last few indices that are not available for the original data\n",
    "    new_df = pd.DataFrame()\n",
    "    new_df.index = df.index        \n",
    "    new_df['metrics.caseDensity(t)']=results\n",
    "    \n",
    "    return new_df\n",
    "\n",
    "weekly_rescaled_y_test = create_weekly_prediction(rescaled_y_test)\n",
    "weekly_rescaled_y_pred_df = create_weekly_prediction(rescaled_y_pred_df)"
   ]
  },
  {
   "cell_type": "code",
   "execution_count": 24,
   "metadata": {},
   "outputs": [
    {
     "data": {
      "text/plain": [
       "(            metrics.caseDensity(t)\n",
       " date                              \n",
       " 2022-01-03                297432.3,\n",
       "             metrics.caseDensity(t)\n",
       " date                              \n",
       " 2022-01-03             210886.0625)"
      ]
     },
     "execution_count": 24,
     "metadata": {},
     "output_type": "execute_result"
    }
   ],
   "source": [
    "weekly_rescaled_y_test, weekly_rescaled_y_pred_df"
   ]
  },
  {
   "cell_type": "code",
   "execution_count": 25,
   "metadata": {},
   "outputs": [
    {
     "data": {
      "text/plain": [
       "<matplotlib.legend.Legend at 0x20c106f6160>"
      ]
     },
     "execution_count": 25,
     "metadata": {},
     "output_type": "execute_result"
    },
    {
     "data": {
      "image/png": "[encoded data removed]",
      "text/plain": [
       "<Figure size 720x432 with 1 Axes>"
      ]
     },
     "metadata": {
      "needs_background": "light"
     },
     "output_type": "display_data"
    }
   ],
   "source": [
    "import matplotlib.pyplot as plt\n",
    "plt.figure(figsize=(10,6))\n",
    "plt.plot(rescaling_cases(y_val,cases_mean,cases_std)['metrics.caseDensity(t)'], color='blue')\n",
    "plt.plot(weekly_rescaled_y_pred_df['metrics.caseDensity(t)'], color='red')\n",
    "plt.plot(weekly_rescaled_y_test['metrics.caseDensity(t)'], color='blue')\n",
    "plt.title('Actual vs. Predicted Covid Case Density (Test Data)')\n",
    "plt.ylabel('Number of Cases per 100k population')\n",
    "plt.xlabel('Days (Jan 3 -9 Jan 2022)')\n",
    "plt.legend(['pre-test','predicted', 'actual'])"
   ]
  },
  {
   "cell_type": "code",
   "execution_count": 26,
   "metadata": {},
   "outputs": [
    {
     "data": {
      "text/plain": [
       "<matplotlib.legend.Legend at 0x20cd8aa4310>"
      ]
     },
     "execution_count": 26,
     "metadata": {},
     "output_type": "execute_result"
    },
    {
     "data": {
      "image/png": "[encoded data removed]",
      "text/plain": [
       "<Figure size 720x432 with 1 Axes>"
      ]
     },
     "metadata": {
      "needs_background": "light"
     },
     "output_type": "display_data"
    }
   ],
   "source": [
    "import matplotlib.pyplot as plt\n",
    "plt.figure(figsize=(10,6))\n",
    "plt.plot(rescaling_cases(y_val,cases_mean,cases_std)['metrics.caseDensity(t)'], color='blue')\n",
    "plt.plot(rescaled_y_pred_df['metrics.caseDensity(t)'], color='red')\n",
    "plt.plot(rescaled_y_test['metrics.caseDensity(t)'], color='blue')\n",
    "plt.title('Actual vs. Predicted Covid Case Density (Test Data)')\n",
    "plt.ylabel('Number of Cases per 100k population')\n",
    "plt.xlabel('Days (Jan 3 -9 Jan 2022)')\n",
    "plt.legend(['pre-test','predicted', 'actual'])"
   ]
  },
  {
   "cell_type": "code",
   "execution_count": 27,
   "metadata": {},
   "outputs": [],
   "source": [
    "# import matplotlib.pyplot as plt\n",
    "# plt.figure(figsize=(10,6))\n",
    "# plt.plot(y_pred_df['metrics.deathDensity(t)'], color='red')\n",
    "# plt.plot(y_test['metrics.deathDensity(t)'], color='blue')\n",
    "# plt.title('Actual vs. Predicted Covid Death Density (Test Data)')\n",
    "# plt.ylabel('Deaths/Population (Scaled)')\n",
    "# plt.xlabel('Days (5 Aug 2021 - 9 Jan 2022)')\n",
    "# plt.legend(['predicted', 'actual'])"
   ]
  },
  {
   "cell_type": "code",
   "execution_count": null,
   "metadata": {},
   "outputs": [],
   "source": []
  }
 ],
 "metadata": {
  "kernelspec": {
   "display_name": "Python 3 (ipykernel)",
   "language": "python",
   "name": "python3"
  },
  "language_info": {
   "codemirror_mode": {
    "name": "ipython",
    "version": 3
   },
   "file_extension": ".py",
   "mimetype": "text/x-python",
   "name": "python",
   "nbconvert_exporter": "python",
   "pygments_lexer": "ipython3",
   "version": "3.9.10"
  }
 },
 "nbformat": 4,
 "nbformat_minor": 4
}
