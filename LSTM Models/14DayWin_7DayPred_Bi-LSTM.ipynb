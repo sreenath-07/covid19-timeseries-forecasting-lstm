{
 "cells": [
  {
   "cell_type": "markdown",
   "metadata": {},
   "source": [
    "## Analysis Starts here"
   ]
  },
  {
   "cell_type": "code",
   "execution_count": 295,
   "metadata": {},
   "outputs": [],
   "source": [
    "import pandas as pd\n",
    "path = \"Jan3_2022_Pred/14DayWin_7DayPred/\"\n",
    "x_train = pd.read_csv(path+\"x_train.csv\",index_col=0)\n",
    "y_train = pd.read_csv(path+\"y_train.csv\",index_col=0)\n",
    "\n",
    "x_val = pd.read_csv(path+\"x_val.csv\",index_col=0)\n",
    "y_val = pd.read_csv(path+\"y_val.csv\",index_col=0)\n",
    "\n",
    "x_test = pd.read_csv(path+\"x_test.csv\",index_col=0)\n",
    "y_test = pd.read_csv(path+\"y_test.csv\",index_col=0)"
   ]
  },
  {
   "cell_type": "markdown",
   "metadata": {},
   "source": [
    "### Training Model for only Cases Prediction"
   ]
  },
  {
   "cell_type": "code",
   "execution_count": 296,
   "metadata": {},
   "outputs": [],
   "source": [
    "y_train = y_train.iloc[:,[1,3,5,7,9,11,13]]\n",
    "y_val = y_val.iloc[:,[1,3,5,7,9,11,13]]\n",
    "y_test = y_test.iloc[:,[1,3,5,7,9,11,13]]"
   ]
  },
  {
   "cell_type": "code",
   "execution_count": 297,
   "metadata": {},
   "outputs": [
    {
     "data": {
      "text/html": [
       "<div>\n",
       "<style scoped>\n",
       "    .dataframe tbody tr th:only-of-type {\n",
       "        vertical-align: middle;\n",
       "    }\n",
       "\n",
       "    .dataframe tbody tr th {\n",
       "        vertical-align: top;\n",
       "    }\n",
       "\n",
       "    .dataframe thead th {\n",
       "        text-align: right;\n",
       "    }\n",
       "</style>\n",
       "<table border=\"1\" class=\"dataframe\">\n",
       "  <thead>\n",
       "    <tr style=\"text-align: right;\">\n",
       "      <th></th>\n",
       "      <th>metrics.caseDensity(t)</th>\n",
       "      <th>metrics.caseDensity(t+1)</th>\n",
       "      <th>metrics.caseDensity(t+2)</th>\n",
       "      <th>metrics.caseDensity(t+3)</th>\n",
       "      <th>metrics.caseDensity(t+4)</th>\n",
       "      <th>metrics.caseDensity(t+5)</th>\n",
       "      <th>metrics.caseDensity(t+6)</th>\n",
       "    </tr>\n",
       "    <tr>\n",
       "      <th>date</th>\n",
       "      <th></th>\n",
       "      <th></th>\n",
       "      <th></th>\n",
       "      <th></th>\n",
       "      <th></th>\n",
       "      <th></th>\n",
       "      <th></th>\n",
       "    </tr>\n",
       "  </thead>\n",
       "  <tbody>\n",
       "    <tr>\n",
       "      <th>2020-04-19</th>\n",
       "      <td>-1.075018</td>\n",
       "      <td>-1.069245</td>\n",
       "      <td>-1.063814</td>\n",
       "      <td>-1.056244</td>\n",
       "      <td>-1.047694</td>\n",
       "      <td>-1.034272</td>\n",
       "      <td>-1.021227</td>\n",
       "    </tr>\n",
       "    <tr>\n",
       "      <th>2020-04-20</th>\n",
       "      <td>-1.069245</td>\n",
       "      <td>-1.063814</td>\n",
       "      <td>-1.056244</td>\n",
       "      <td>-1.047694</td>\n",
       "      <td>-1.034272</td>\n",
       "      <td>-1.021227</td>\n",
       "      <td>-1.020043</td>\n",
       "    </tr>\n",
       "    <tr>\n",
       "      <th>2020-04-21</th>\n",
       "      <td>-1.063814</td>\n",
       "      <td>-1.056244</td>\n",
       "      <td>-1.047694</td>\n",
       "      <td>-1.034272</td>\n",
       "      <td>-1.021227</td>\n",
       "      <td>-1.020043</td>\n",
       "      <td>-1.017310</td>\n",
       "    </tr>\n",
       "    <tr>\n",
       "      <th>2020-04-22</th>\n",
       "      <td>-1.056244</td>\n",
       "      <td>-1.047694</td>\n",
       "      <td>-1.034272</td>\n",
       "      <td>-1.021227</td>\n",
       "      <td>-1.020043</td>\n",
       "      <td>-1.017310</td>\n",
       "      <td>-1.017571</td>\n",
       "    </tr>\n",
       "    <tr>\n",
       "      <th>2020-04-23</th>\n",
       "      <td>-1.047694</td>\n",
       "      <td>-1.034272</td>\n",
       "      <td>-1.021227</td>\n",
       "      <td>-1.020043</td>\n",
       "      <td>-1.017310</td>\n",
       "      <td>-1.017571</td>\n",
       "      <td>-1.015028</td>\n",
       "    </tr>\n",
       "    <tr>\n",
       "      <th>...</th>\n",
       "      <td>...</td>\n",
       "      <td>...</td>\n",
       "      <td>...</td>\n",
       "      <td>...</td>\n",
       "      <td>...</td>\n",
       "      <td>...</td>\n",
       "      <td>...</td>\n",
       "    </tr>\n",
       "    <tr>\n",
       "      <th>2021-08-26</th>\n",
       "      <td>1.201469</td>\n",
       "      <td>1.252444</td>\n",
       "      <td>1.293391</td>\n",
       "      <td>1.336629</td>\n",
       "      <td>1.378909</td>\n",
       "      <td>1.438982</td>\n",
       "      <td>1.489022</td>\n",
       "    </tr>\n",
       "    <tr>\n",
       "      <th>2021-08-27</th>\n",
       "      <td>1.252444</td>\n",
       "      <td>1.293391</td>\n",
       "      <td>1.336629</td>\n",
       "      <td>1.378909</td>\n",
       "      <td>1.438982</td>\n",
       "      <td>1.489022</td>\n",
       "      <td>1.514540</td>\n",
       "    </tr>\n",
       "    <tr>\n",
       "      <th>2021-08-28</th>\n",
       "      <td>1.293391</td>\n",
       "      <td>1.336629</td>\n",
       "      <td>1.378909</td>\n",
       "      <td>1.438982</td>\n",
       "      <td>1.489022</td>\n",
       "      <td>1.514540</td>\n",
       "      <td>1.551361</td>\n",
       "    </tr>\n",
       "    <tr>\n",
       "      <th>2021-08-29</th>\n",
       "      <td>1.336629</td>\n",
       "      <td>1.378909</td>\n",
       "      <td>1.438982</td>\n",
       "      <td>1.489022</td>\n",
       "      <td>1.514540</td>\n",
       "      <td>1.551361</td>\n",
       "      <td>1.551055</td>\n",
       "    </tr>\n",
       "    <tr>\n",
       "      <th>2021-08-30</th>\n",
       "      <td>1.378909</td>\n",
       "      <td>1.438982</td>\n",
       "      <td>1.489022</td>\n",
       "      <td>1.514540</td>\n",
       "      <td>1.551361</td>\n",
       "      <td>1.551055</td>\n",
       "      <td>1.544446</td>\n",
       "    </tr>\n",
       "  </tbody>\n",
       "</table>\n",
       "<p>499 rows × 7 columns</p>\n",
       "</div>"
      ],
      "text/plain": [
       "            metrics.caseDensity(t)  metrics.caseDensity(t+1)  \\\n",
       "date                                                           \n",
       "2020-04-19               -1.075018                 -1.069245   \n",
       "2020-04-20               -1.069245                 -1.063814   \n",
       "2020-04-21               -1.063814                 -1.056244   \n",
       "2020-04-22               -1.056244                 -1.047694   \n",
       "2020-04-23               -1.047694                 -1.034272   \n",
       "...                            ...                       ...   \n",
       "2021-08-26                1.201469                  1.252444   \n",
       "2021-08-27                1.252444                  1.293391   \n",
       "2021-08-28                1.293391                  1.336629   \n",
       "2021-08-29                1.336629                  1.378909   \n",
       "2021-08-30                1.378909                  1.438982   \n",
       "\n",
       "            metrics.caseDensity(t+2)  metrics.caseDensity(t+3)  \\\n",
       "date                                                             \n",
       "2020-04-19                 -1.063814                 -1.056244   \n",
       "2020-04-20                 -1.056244                 -1.047694   \n",
       "2020-04-21                 -1.047694                 -1.034272   \n",
       "2020-04-22                 -1.034272                 -1.021227   \n",
       "2020-04-23                 -1.021227                 -1.020043   \n",
       "...                              ...                       ...   \n",
       "2021-08-26                  1.293391                  1.336629   \n",
       "2021-08-27                  1.336629                  1.378909   \n",
       "2021-08-28                  1.378909                  1.438982   \n",
       "2021-08-29                  1.438982                  1.489022   \n",
       "2021-08-30                  1.489022                  1.514540   \n",
       "\n",
       "            metrics.caseDensity(t+4)  metrics.caseDensity(t+5)  \\\n",
       "date                                                             \n",
       "2020-04-19                 -1.047694                 -1.034272   \n",
       "2020-04-20                 -1.034272                 -1.021227   \n",
       "2020-04-21                 -1.021227                 -1.020043   \n",
       "2020-04-22                 -1.020043                 -1.017310   \n",
       "2020-04-23                 -1.017310                 -1.017571   \n",
       "...                              ...                       ...   \n",
       "2021-08-26                  1.378909                  1.438982   \n",
       "2021-08-27                  1.438982                  1.489022   \n",
       "2021-08-28                  1.489022                  1.514540   \n",
       "2021-08-29                  1.514540                  1.551361   \n",
       "2021-08-30                  1.551361                  1.551055   \n",
       "\n",
       "            metrics.caseDensity(t+6)  \n",
       "date                                  \n",
       "2020-04-19                 -1.021227  \n",
       "2020-04-20                 -1.020043  \n",
       "2020-04-21                 -1.017310  \n",
       "2020-04-22                 -1.017571  \n",
       "2020-04-23                 -1.015028  \n",
       "...                              ...  \n",
       "2021-08-26                  1.489022  \n",
       "2021-08-27                  1.514540  \n",
       "2021-08-28                  1.551361  \n",
       "2021-08-29                  1.551055  \n",
       "2021-08-30                  1.544446  \n",
       "\n",
       "[499 rows x 7 columns]"
      ]
     },
     "execution_count": 297,
     "metadata": {},
     "output_type": "execute_result"
    }
   ],
   "source": [
    "y_train"
   ]
  },
  {
   "cell_type": "code",
   "execution_count": 298,
   "metadata": {},
   "outputs": [
    {
     "data": {
      "text/plain": [
       "Index(['actuals.cases(t-14)', 'actuals.deaths(t-14)',\n",
       "       'metrics.deathDensity(t-14)', 'metrics.caseDensity(t-14)',\n",
       "       'metrics.testPositivityRatio(t-14)', 'cdcTransmissionLevel(t-14)',\n",
       "       'riskLevels.caseDensity(t-14)', 'riskLevels.overall(t-14)',\n",
       "       'metrics.vaccinationsCompletedRatio(t-14)',\n",
       "       'metrics.vaccinationsInitiatedRatio(t-14)',\n",
       "       ...\n",
       "       'actuals.cases(t-1)', 'actuals.deaths(t-1)',\n",
       "       'metrics.deathDensity(t-1)', 'metrics.caseDensity(t-1)',\n",
       "       'metrics.testPositivityRatio(t-1)', 'cdcTransmissionLevel(t-1)',\n",
       "       'riskLevels.caseDensity(t-1)', 'riskLevels.overall(t-1)',\n",
       "       'metrics.vaccinationsCompletedRatio(t-1)',\n",
       "       'metrics.vaccinationsInitiatedRatio(t-1)'],\n",
       "      dtype='object', length=140)"
      ]
     },
     "execution_count": 298,
     "metadata": {},
     "output_type": "execute_result"
    }
   ],
   "source": [
    "x_test.columns"
   ]
  },
  {
   "cell_type": "code",
   "execution_count": 299,
   "metadata": {},
   "outputs": [],
   "source": [
    "## RESHAPE\n",
    "def reshape_data(data, timesteps=1):\n",
    "\n",
    "    #reshape input to be 3D [samples, timesteps, features]\n",
    "    np_values = data.values\n",
    "    new_data = np_values.reshape((np_values.shape[0], timesteps, np_values.shape[1]))\n",
    "    \n",
    "    return new_data\n",
    "\n",
    "X_train= reshape_data(x_train,1)\n",
    "X_val= reshape_data(x_val,1)\n",
    "Y_train= reshape_data(y_train,1)\n",
    "Y_val= reshape_data(y_val,1)"
   ]
  },
  {
   "cell_type": "code",
   "execution_count": 300,
   "metadata": {},
   "outputs": [
    {
     "data": {
      "text/plain": [
       "(125, 1, 7)"
      ]
     },
     "execution_count": 300,
     "metadata": {},
     "output_type": "execute_result"
    }
   ],
   "source": [
    "Y_val.shape"
   ]
  },
  {
   "cell_type": "code",
   "execution_count": 301,
   "metadata": {},
   "outputs": [],
   "source": [
    "import numpy as np # linear algebra\n",
    "import pandas as pd \n",
    "import matplotlib.pyplot as plt\n",
    "\n",
    "import tensorflow as tf\n",
    "from numpy.random import seed\n",
    "from sklearn.model_selection import train_test_split\n",
    "from keras.layers import Input, Dense, Concatenate, LSTM, Dropout, Lambda, Bidirectional\n",
    "from keras.models import Model\n",
    "from keras import backend as K #For explicitly adjusting the learning rate\n",
    "from keras.callbacks import ReduceLROnPlateau, EarlyStopping, ModelCheckpoint\n",
    "from tensorflow.keras import Sequential\n",
    "\n",
    "# from tensorflow import keras\n",
    "import tensorflow.keras.backend as K\n"
   ]
  },
  {
   "cell_type": "code",
   "execution_count": 302,
   "metadata": {},
   "outputs": [],
   "source": [
    "import tensorflow as tf\n",
    "tf.keras.backend.clear_session()"
   ]
  },
  {
   "cell_type": "code",
   "execution_count": 303,
   "metadata": {},
   "outputs": [],
   "source": [
    "def root_mean_squared_error(y_true, y_pred):\n",
    "        return K.sqrt(K.mean(K.square(y_pred - y_true)))"
   ]
  },
  {
   "cell_type": "code",
   "execution_count": 304,
   "metadata": {
    "scrolled": true
   },
   "outputs": [
    {
     "name": "stdout",
     "output_type": "stream",
     "text": [
      "WARNING:tensorflow:Layer lstm will not use cuDNN kernels since it doesn't meet the criteria. It will use a generic GPU kernel as fallback when running on GPU.\n",
      "WARNING:tensorflow:Layer lstm will not use cuDNN kernels since it doesn't meet the criteria. It will use a generic GPU kernel as fallback when running on GPU.\n",
      "WARNING:tensorflow:Layer lstm will not use cuDNN kernels since it doesn't meet the criteria. It will use a generic GPU kernel as fallback when running on GPU.\n",
      "Model: \"sequential\"\n",
      "_________________________________________________________________\n",
      " Layer (type)                Output Shape              Param #   \n",
      "=================================================================\n",
      " bidirectional (Bidirectiona  (None, 256)              275456    \n",
      " l)                                                              \n",
      "                                                                 \n",
      " dense (Dense)               (None, 32)                8224      \n",
      "                                                                 \n",
      " dense_1 (Dense)             (None, 7)                 231       \n",
      "                                                                 \n",
      "=================================================================\n",
      "Total params: 283,911\n",
      "Trainable params: 283,911\n",
      "Non-trainable params: 0\n",
      "_________________________________________________________________\n"
     ]
    }
   ],
   "source": [
    "learning_rate_reduction = ReduceLROnPlateau(monitor='val_root_mean_squared_error', \n",
    "                                            patience=3, \n",
    "                                            verbose=1, \n",
    "                                            factor=0.5, \n",
    "                                            min_lr=1e-10)\n",
    "\n",
    "# optimizer = tf.keras.optimizers.Adam(learning_rate = 0.0001)\n",
    "optimizer = 'adam'\n",
    "\n",
    "loss_fn = root_mean_squared_error\n",
    "# loss_fn = 'mse'\n",
    "\n",
    "model = Sequential()\n",
    "# model.add(LSTM(128,  activation='relu', return_sequences=True, input_shape=(X_train.shape[1], X_train.shape[2])))\n",
    "model.add(Bidirectional(LSTM(128, activation='relu', dropout=0.2), input_shape=(X_train.shape[1],X_train.shape[2])))\n",
    "# model.add(LSTM(128,  activation='relu', return_sequences=True))\n",
    "model.add(Dense(32, activation=\"relu\"))\n",
    "# model.add(Dropout(0.2)) \n",
    "model.add(Dense(7)) #Output Variables\n",
    "model.compile(loss=loss_fn, optimizer=optimizer,metrics = [loss_fn,'mean_squared_error','mean_absolute_percentage_error','mean_absolute_error'])\n",
    "model.summary()\n",
    "# fit network"
   ]
  },
  {
   "cell_type": "code",
   "execution_count": 305,
   "metadata": {},
   "outputs": [
    {
     "name": "stdout",
     "output_type": "stream",
     "text": [
      "Epoch 1/100\n",
      "32/32 [==============================] - 3s 29ms/step - loss: 0.6143 - root_mean_squared_error: 0.6250 - mean_squared_error: 0.5771 - mean_absolute_percentage_error: 101.5352 - mean_absolute_error: 0.5665 - val_loss: 0.6635 - val_root_mean_squared_error: 0.6920 - val_mean_squared_error: 0.5740 - val_mean_absolute_percentage_error: 113.2427 - val_mean_absolute_error: 0.5504 - lr: 0.0010\n",
      "Epoch 2/100\n",
      "32/32 [==============================] - 1s 20ms/step - loss: 0.4013 - root_mean_squared_error: 0.4039 - mean_squared_error: 0.2066 - mean_absolute_percentage_error: 89.8933 - mean_absolute_error: 0.3406 - val_loss: 0.7437 - val_root_mean_squared_error: 0.7555 - val_mean_squared_error: 0.5813 - val_mean_absolute_percentage_error: 207.3622 - val_mean_absolute_error: 0.6188 - lr: 0.0010\n",
      "Epoch 3/100\n",
      "32/32 [==============================] - 1s 20ms/step - loss: 0.4697 - root_mean_squared_error: 0.4878 - mean_squared_error: 0.2983 - mean_absolute_percentage_error: 89.9081 - mean_absolute_error: 0.3857 - val_loss: 0.9744 - val_root_mean_squared_error: 0.9873 - val_mean_squared_error: 1.0542 - val_mean_absolute_percentage_error: 180.9777 - val_mean_absolute_error: 0.7246 - lr: 0.0010\n",
      "Epoch 4/100\n",
      "32/32 [==============================] - 1s 21ms/step - loss: 0.5852 - root_mean_squared_error: 0.5963 - mean_squared_error: 0.4641 - mean_absolute_percentage_error: 107.7050 - mean_absolute_error: 0.5059 - val_loss: 0.5085 - val_root_mean_squared_error: 0.5405 - val_mean_squared_error: 0.4485 - val_mean_absolute_percentage_error: 62.2806 - val_mean_absolute_error: 0.4065 - lr: 0.0010\n",
      "Epoch 5/100\n",
      "32/32 [==============================] - 1s 20ms/step - loss: 0.4808 - root_mean_squared_error: 0.4809 - mean_squared_error: 0.3007 - mean_absolute_percentage_error: 93.8777 - mean_absolute_error: 0.4174 - val_loss: 0.7371 - val_root_mean_squared_error: 0.7497 - val_mean_squared_error: 0.5726 - val_mean_absolute_percentage_error: 194.6217 - val_mean_absolute_error: 0.5921 - lr: 0.0010\n",
      "Epoch 6/100\n",
      "32/32 [==============================] - 1s 20ms/step - loss: 0.3672 - root_mean_squared_error: 0.3692 - mean_squared_error: 0.1613 - mean_absolute_percentage_error: 75.2210 - mean_absolute_error: 0.2931 - val_loss: 0.5036 - val_root_mean_squared_error: 0.5253 - val_mean_squared_error: 0.3415 - val_mean_absolute_percentage_error: 99.7717 - val_mean_absolute_error: 0.3722 - lr: 0.0010\n",
      "Epoch 7/100\n",
      "32/32 [==============================] - 1s 20ms/step - loss: 0.4704 - root_mean_squared_error: 0.4787 - mean_squared_error: 0.3174 - mean_absolute_percentage_error: 93.8012 - mean_absolute_error: 0.3842 - val_loss: 0.8128 - val_root_mean_squared_error: 0.8234 - val_mean_squared_error: 0.6974 - val_mean_absolute_percentage_error: 182.1992 - val_mean_absolute_error: 0.6161 - lr: 0.0010\n",
      "Epoch 8/100\n",
      "32/32 [==============================] - 1s 20ms/step - loss: 0.4443 - root_mean_squared_error: 0.4630 - mean_squared_error: 0.2974 - mean_absolute_percentage_error: 88.9213 - mean_absolute_error: 0.3810 - val_loss: 0.5732 - val_root_mean_squared_error: 0.6022 - val_mean_squared_error: 0.5386 - val_mean_absolute_percentage_error: 77.3831 - val_mean_absolute_error: 0.4750 - lr: 0.0010\n",
      "Epoch 9/100\n",
      "31/32 [============================>.] - ETA: 0s - loss: 0.5712 - root_mean_squared_error: 0.5712 - mean_squared_error: 0.5534 - mean_absolute_percentage_error: 87.1709 - mean_absolute_error: 0.5049\n",
      "Epoch 9: ReduceLROnPlateau reducing learning rate to 0.0005000000237487257.\n",
      "32/32 [==============================] - 1s 20ms/step - loss: 0.5697 - root_mean_squared_error: 0.5634 - mean_squared_error: 0.5529 - mean_absolute_percentage_error: 87.0920 - mean_absolute_error: 0.5046 - val_loss: 0.6115 - val_root_mean_squared_error: 0.6269 - val_mean_squared_error: 0.4241 - val_mean_absolute_percentage_error: 164.3279 - val_mean_absolute_error: 0.5091 - lr: 0.0010\n",
      "Epoch 10/100\n",
      "32/32 [==============================] - 1s 19ms/step - loss: 0.5302 - root_mean_squared_error: 0.5269 - mean_squared_error: 0.4969 - mean_absolute_percentage_error: 75.5850 - mean_absolute_error: 0.4862 - val_loss: 0.5033 - val_root_mean_squared_error: 0.5235 - val_mean_squared_error: 0.3267 - val_mean_absolute_percentage_error: 122.4963 - val_mean_absolute_error: 0.3999 - lr: 5.0000e-04\n",
      "Epoch 11/100\n",
      "32/32 [==============================] - 1s 20ms/step - loss: 0.4886 - root_mean_squared_error: 0.4846 - mean_squared_error: 0.4651 - mean_absolute_percentage_error: 77.0024 - mean_absolute_error: 0.4572 - val_loss: 0.6800 - val_root_mean_squared_error: 0.6930 - val_mean_squared_error: 0.5102 - val_mean_absolute_percentage_error: 196.7816 - val_mean_absolute_error: 0.5917 - lr: 5.0000e-04\n",
      "Epoch 12/100\n",
      "32/32 [==============================] - 1s 20ms/step - loss: 0.3904 - root_mean_squared_error: 0.3947 - mean_squared_error: 0.3732 - mean_absolute_percentage_error: 65.6100 - mean_absolute_error: 0.3395 - val_loss: 0.5142 - val_root_mean_squared_error: 0.5374 - val_mean_squared_error: 0.3504 - val_mean_absolute_percentage_error: 109.8031 - val_mean_absolute_error: 0.4003 - lr: 5.0000e-04\n",
      "Epoch 13/100\n",
      "31/32 [============================>.] - ETA: 0s - loss: 0.3694 - root_mean_squared_error: 0.3694 - mean_squared_error: 0.3378 - mean_absolute_percentage_error: 63.6198 - mean_absolute_error: 0.3251\n",
      "Epoch 13: ReduceLROnPlateau reducing learning rate to 0.0002500000118743628.\n",
      "32/32 [==============================] - 1s 20ms/step - loss: 0.3688 - root_mean_squared_error: 0.3659 - mean_squared_error: 0.3375 - mean_absolute_percentage_error: 63.5609 - mean_absolute_error: 0.3250 - val_loss: 0.6288 - val_root_mean_squared_error: 0.6439 - val_mean_squared_error: 0.4552 - val_mean_absolute_percentage_error: 170.2554 - val_mean_absolute_error: 0.5333 - lr: 5.0000e-04\n",
      "Epoch 14/100\n",
      "32/32 [==============================] - 1s 19ms/step - loss: 0.3542 - root_mean_squared_error: 0.3519 - mean_squared_error: 0.2902 - mean_absolute_percentage_error: 66.3115 - mean_absolute_error: 0.2918 - val_loss: 0.5852 - val_root_mean_squared_error: 0.6018 - val_mean_squared_error: 0.4085 - val_mean_absolute_percentage_error: 156.7628 - val_mean_absolute_error: 0.4941 - lr: 2.5000e-04\n",
      "Epoch 15/100\n",
      "32/32 [==============================] - 1s 20ms/step - loss: 0.3355 - root_mean_squared_error: 0.3335 - mean_squared_error: 0.2723 - mean_absolute_percentage_error: 61.3564 - mean_absolute_error: 0.2797 - val_loss: 0.5837 - val_root_mean_squared_error: 0.6005 - val_mean_squared_error: 0.4089 - val_mean_absolute_percentage_error: 153.9533 - val_mean_absolute_error: 0.4932 - lr: 2.5000e-04\n",
      "Epoch 16/100\n",
      "31/32 [============================>.] - ETA: 0s - loss: 0.3364 - root_mean_squared_error: 0.3364 - mean_squared_error: 0.2590 - mean_absolute_percentage_error: 62.5604 - mean_absolute_error: 0.2742\n",
      "Epoch 16: ReduceLROnPlateau reducing learning rate to 0.0001250000059371814.\n",
      "32/32 [==============================] - 1s 20ms/step - loss: 0.3358 - root_mean_squared_error: 0.3331 - mean_squared_error: 0.2588 - mean_absolute_percentage_error: 62.5032 - mean_absolute_error: 0.2741 - val_loss: 0.5833 - val_root_mean_squared_error: 0.6001 - val_mean_squared_error: 0.4075 - val_mean_absolute_percentage_error: 156.9632 - val_mean_absolute_error: 0.4950 - lr: 2.5000e-04\n",
      "Epoch 17/100\n",
      "32/32 [==============================] - 1s 21ms/step - loss: 0.3219 - root_mean_squared_error: 0.3196 - mean_squared_error: 0.2478 - mean_absolute_percentage_error: 59.0024 - mean_absolute_error: 0.2650 - val_loss: 0.5834 - val_root_mean_squared_error: 0.6002 - val_mean_squared_error: 0.4078 - val_mean_absolute_percentage_error: 156.7297 - val_mean_absolute_error: 0.4953 - lr: 1.2500e-04\n",
      "Epoch 18/100\n",
      "32/32 [==============================] - 1s 20ms/step - loss: 0.3163 - root_mean_squared_error: 0.3135 - mean_squared_error: 0.2395 - mean_absolute_percentage_error: 59.1480 - mean_absolute_error: 0.2550 - val_loss: 0.5827 - val_root_mean_squared_error: 0.5995 - val_mean_squared_error: 0.4080 - val_mean_absolute_percentage_error: 155.5218 - val_mean_absolute_error: 0.4947 - lr: 1.2500e-04\n",
      "Epoch 19/100\n"
     ]
    },
    {
     "name": "stdout",
     "output_type": "stream",
     "text": [
      "31/32 [============================>.] - ETA: 0s - loss: 0.3102 - root_mean_squared_error: 0.3102 - mean_squared_error: 0.2334 - mean_absolute_percentage_error: 58.3760 - mean_absolute_error: 0.2496\n",
      "Epoch 19: ReduceLROnPlateau reducing learning rate to 6.25000029685907e-05.\n",
      "32/32 [==============================] - 1s 20ms/step - loss: 0.3099 - root_mean_squared_error: 0.3086 - mean_squared_error: 0.2332 - mean_absolute_percentage_error: 58.3248 - mean_absolute_error: 0.2496 - val_loss: 0.5453 - val_root_mean_squared_error: 0.5636 - val_mean_squared_error: 0.3708 - val_mean_absolute_percentage_error: 142.8142 - val_mean_absolute_error: 0.4570 - lr: 1.2500e-04\n",
      "Epoch 20/100\n",
      "32/32 [==============================] - 1s 20ms/step - loss: 0.3083 - root_mean_squared_error: 0.3083 - mean_squared_error: 0.2290 - mean_absolute_percentage_error: 57.8805 - mean_absolute_error: 0.2481 - val_loss: 0.5676 - val_root_mean_squared_error: 0.5850 - val_mean_squared_error: 0.3928 - val_mean_absolute_percentage_error: 150.3090 - val_mean_absolute_error: 0.4799 - lr: 6.2500e-05\n",
      "Epoch 21/100\n",
      "32/32 [==============================] - 1s 19ms/step - loss: 0.3031 - root_mean_squared_error: 0.3004 - mean_squared_error: 0.2255 - mean_absolute_percentage_error: 57.6149 - mean_absolute_error: 0.2440 - val_loss: 0.5871 - val_root_mean_squared_error: 0.6037 - val_mean_squared_error: 0.4130 - val_mean_absolute_percentage_error: 156.6881 - val_mean_absolute_error: 0.4994 - lr: 6.2500e-05\n",
      "Epoch 22/100\n",
      "32/32 [==============================] - ETA: 0s - loss: 0.3047 - root_mean_squared_error: 0.3024 - mean_squared_error: 0.2239 - mean_absolute_percentage_error: 58.0973 - mean_absolute_error: 0.2441\n",
      "Epoch 22: ReduceLROnPlateau reducing learning rate to 3.125000148429535e-05.\n",
      "32/32 [==============================] - 1s 19ms/step - loss: 0.3047 - root_mean_squared_error: 0.3024 - mean_squared_error: 0.2239 - mean_absolute_percentage_error: 58.0973 - mean_absolute_error: 0.2441 - val_loss: 0.5725 - val_root_mean_squared_error: 0.5897 - val_mean_squared_error: 0.3979 - val_mean_absolute_percentage_error: 151.4933 - val_mean_absolute_error: 0.4848 - lr: 6.2500e-05\n",
      "Epoch 23/100\n",
      "32/32 [==============================] - 1s 19ms/step - loss: 0.3012 - root_mean_squared_error: 0.2990 - mean_squared_error: 0.2206 - mean_absolute_percentage_error: 57.1123 - mean_absolute_error: 0.2409 - val_loss: 0.5763 - val_root_mean_squared_error: 0.5933 - val_mean_squared_error: 0.4019 - val_mean_absolute_percentage_error: 152.7031 - val_mean_absolute_error: 0.4886 - lr: 3.1250e-05\n",
      "Epoch 24/100\n",
      "32/32 [==============================] - 1s 19ms/step - loss: 0.3010 - root_mean_squared_error: 0.2988 - mean_squared_error: 0.2208 - mean_absolute_percentage_error: 56.9344 - mean_absolute_error: 0.2417 - val_loss: 0.5757 - val_root_mean_squared_error: 0.5928 - val_mean_squared_error: 0.4013 - val_mean_absolute_percentage_error: 152.5753 - val_mean_absolute_error: 0.4882 - lr: 3.1250e-05\n",
      "Epoch 25/100\n",
      "32/32 [==============================] - ETA: 0s - loss: 0.3001 - root_mean_squared_error: 0.2981 - mean_squared_error: 0.2197 - mean_absolute_percentage_error: 56.5786 - mean_absolute_error: 0.2404\n",
      "Epoch 25: ReduceLROnPlateau reducing learning rate to 1.5625000742147677e-05.\n",
      "32/32 [==============================] - 1s 21ms/step - loss: 0.3001 - root_mean_squared_error: 0.2981 - mean_squared_error: 0.2197 - mean_absolute_percentage_error: 56.5786 - mean_absolute_error: 0.2404 - val_loss: 0.5708 - val_root_mean_squared_error: 0.5880 - val_mean_squared_error: 0.3961 - val_mean_absolute_percentage_error: 150.9849 - val_mean_absolute_error: 0.4832 - lr: 3.1250e-05\n",
      "Epoch 26/100\n",
      "32/32 [==============================] - 1s 19ms/step - loss: 0.2977 - root_mean_squared_error: 0.2952 - mean_squared_error: 0.2177 - mean_absolute_percentage_error: 57.0985 - mean_absolute_error: 0.2380 - val_loss: 0.5742 - val_root_mean_squared_error: 0.5913 - val_mean_squared_error: 0.3997 - val_mean_absolute_percentage_error: 152.0945 - val_mean_absolute_error: 0.4867 - lr: 1.5625e-05\n",
      "Epoch 27/100\n",
      "32/32 [==============================] - 1s 19ms/step - loss: 0.2994 - root_mean_squared_error: 0.2976 - mean_squared_error: 0.2180 - mean_absolute_percentage_error: 58.5214 - mean_absolute_error: 0.2395 - val_loss: 0.5752 - val_root_mean_squared_error: 0.5923 - val_mean_squared_error: 0.4007 - val_mean_absolute_percentage_error: 152.4170 - val_mean_absolute_error: 0.4877 - lr: 1.5625e-05\n",
      "Epoch 28/100\n",
      "32/32 [==============================] - ETA: 0s - loss: 0.2994 - root_mean_squared_error: 0.2972 - mean_squared_error: 0.2171 - mean_absolute_percentage_error: 58.2335 - mean_absolute_error: 0.2393\n",
      "Epoch 28: ReduceLROnPlateau reducing learning rate to 7.812500371073838e-06.\n",
      "32/32 [==============================] - 1s 20ms/step - loss: 0.2994 - root_mean_squared_error: 0.2972 - mean_squared_error: 0.2171 - mean_absolute_percentage_error: 58.2335 - mean_absolute_error: 0.2393 - val_loss: 0.5802 - val_root_mean_squared_error: 0.5971 - val_mean_squared_error: 0.4059 - val_mean_absolute_percentage_error: 154.1076 - val_mean_absolute_error: 0.4929 - lr: 1.5625e-05\n",
      "Epoch 29/100\n",
      "32/32 [==============================] - 1s 19ms/step - loss: 0.2976 - root_mean_squared_error: 0.2949 - mean_squared_error: 0.2160 - mean_absolute_percentage_error: 56.3013 - mean_absolute_error: 0.2378 - val_loss: 0.5816 - val_root_mean_squared_error: 0.5984 - val_mean_squared_error: 0.4073 - val_mean_absolute_percentage_error: 154.5527 - val_mean_absolute_error: 0.4942 - lr: 7.8125e-06\n",
      "Epoch 30/100\n",
      "32/32 [==============================] - 1s 20ms/step - loss: 0.2978 - root_mean_squared_error: 0.2952 - mean_squared_error: 0.2173 - mean_absolute_percentage_error: 57.3750 - mean_absolute_error: 0.2386 - val_loss: 0.5802 - val_root_mean_squared_error: 0.5971 - val_mean_squared_error: 0.4059 - val_mean_absolute_percentage_error: 154.0869 - val_mean_absolute_error: 0.4929 - lr: 7.8125e-06\n",
      "Epoch 31/100\n",
      "32/32 [==============================] - ETA: 0s - loss: 0.2969 - root_mean_squared_error: 0.2943 - mean_squared_error: 0.2155 - mean_absolute_percentage_error: 56.8332 - mean_absolute_error: 0.2369\n",
      "Epoch 31: ReduceLROnPlateau reducing learning rate to 3.906250185536919e-06.\n",
      "32/32 [==============================] - 1s 20ms/step - loss: 0.2969 - root_mean_squared_error: 0.2943 - mean_squared_error: 0.2155 - mean_absolute_percentage_error: 56.8332 - mean_absolute_error: 0.2369 - val_loss: 0.5802 - val_root_mean_squared_error: 0.5970 - val_mean_squared_error: 0.4059 - val_mean_absolute_percentage_error: 154.0266 - val_mean_absolute_error: 0.4928 - lr: 7.8125e-06\n",
      "Epoch 32/100\n",
      "32/32 [==============================] - 1s 20ms/step - loss: 0.2969 - root_mean_squared_error: 0.2945 - mean_squared_error: 0.2150 - mean_absolute_percentage_error: 56.3835 - mean_absolute_error: 0.2369 - val_loss: 0.5797 - val_root_mean_squared_error: 0.5966 - val_mean_squared_error: 0.4054 - val_mean_absolute_percentage_error: 153.8947 - val_mean_absolute_error: 0.4924 - lr: 3.9063e-06\n",
      "Epoch 33/100\n",
      "32/32 [==============================] - 1s 20ms/step - loss: 0.2977 - root_mean_squared_error: 0.2962 - mean_squared_error: 0.2157 - mean_absolute_percentage_error: 56.6466 - mean_absolute_error: 0.2382 - val_loss: 0.5792 - val_root_mean_squared_error: 0.5961 - val_mean_squared_error: 0.4049 - val_mean_absolute_percentage_error: 153.6966 - val_mean_absolute_error: 0.4919 - lr: 3.9063e-06\n",
      "Epoch 34/100\n",
      "32/32 [==============================] - ETA: 0s - loss: 0.2990 - root_mean_squared_error: 0.2967 - mean_squared_error: 0.2158 - mean_absolute_percentage_error: 57.6633 - mean_absolute_error: 0.2387\n",
      "Epoch 34: ReduceLROnPlateau reducing learning rate to 1.9531250927684596e-06.\n",
      "32/32 [==============================] - 1s 20ms/step - loss: 0.2990 - root_mean_squared_error: 0.2967 - mean_squared_error: 0.2158 - mean_absolute_percentage_error: 57.6633 - mean_absolute_error: 0.2387 - val_loss: 0.5803 - val_root_mean_squared_error: 0.5972 - val_mean_squared_error: 0.4060 - val_mean_absolute_percentage_error: 154.0453 - val_mean_absolute_error: 0.4930 - lr: 3.9063e-06\n",
      "Epoch 35/100\n"
     ]
    },
    {
     "name": "stdout",
     "output_type": "stream",
     "text": [
      "32/32 [==============================] - 1s 20ms/step - loss: 0.2983 - root_mean_squared_error: 0.2960 - mean_squared_error: 0.2154 - mean_absolute_percentage_error: 57.8766 - mean_absolute_error: 0.2380 - val_loss: 0.5806 - val_root_mean_squared_error: 0.5975 - val_mean_squared_error: 0.4063 - val_mean_absolute_percentage_error: 154.1604 - val_mean_absolute_error: 0.4933 - lr: 1.9531e-06\n",
      "Epoch 36/100\n",
      "32/32 [==============================] - 1s 20ms/step - loss: 0.2981 - root_mean_squared_error: 0.2961 - mean_squared_error: 0.2151 - mean_absolute_percentage_error: 58.1551 - mean_absolute_error: 0.2374 - val_loss: 0.5804 - val_root_mean_squared_error: 0.5973 - val_mean_squared_error: 0.4061 - val_mean_absolute_percentage_error: 154.0875 - val_mean_absolute_error: 0.4931 - lr: 1.9531e-06\n",
      "Epoch 37/100\n",
      "31/32 [============================>.] - ETA: 0s - loss: 0.2988 - root_mean_squared_error: 0.2988 - mean_squared_error: 0.2157 - mean_absolute_percentage_error: 57.8170 - mean_absolute_error: 0.2390\n",
      "Epoch 37: ReduceLROnPlateau reducing learning rate to 9.765625463842298e-07.\n",
      "32/32 [==============================] - 1s 20ms/step - loss: 0.2983 - root_mean_squared_error: 0.2961 - mean_squared_error: 0.2155 - mean_absolute_percentage_error: 57.7648 - mean_absolute_error: 0.2389 - val_loss: 0.5805 - val_root_mean_squared_error: 0.5973 - val_mean_squared_error: 0.4062 - val_mean_absolute_percentage_error: 154.0863 - val_mean_absolute_error: 0.4931 - lr: 1.9531e-06\n",
      "Epoch 38/100\n",
      "32/32 [==============================] - 1s 20ms/step - loss: 0.2948 - root_mean_squared_error: 0.2929 - mean_squared_error: 0.2143 - mean_absolute_percentage_error: 56.7903 - mean_absolute_error: 0.2356 - val_loss: 0.5801 - val_root_mean_squared_error: 0.5970 - val_mean_squared_error: 0.4058 - val_mean_absolute_percentage_error: 153.9598 - val_mean_absolute_error: 0.4927 - lr: 9.7656e-07\n",
      "Epoch 39/100\n",
      "32/32 [==============================] - 1s 20ms/step - loss: 0.2979 - root_mean_squared_error: 0.2963 - mean_squared_error: 0.2153 - mean_absolute_percentage_error: 58.9203 - mean_absolute_error: 0.2376 - val_loss: 0.5803 - val_root_mean_squared_error: 0.5971 - val_mean_squared_error: 0.4060 - val_mean_absolute_percentage_error: 154.0295 - val_mean_absolute_error: 0.4929 - lr: 9.7656e-07\n",
      "Epoch 40/100\n",
      "32/32 [==============================] - ETA: 0s - loss: 0.2973 - root_mean_squared_error: 0.2950 - mean_squared_error: 0.2144 - mean_absolute_percentage_error: 57.5969 - mean_absolute_error: 0.2375\n",
      "Epoch 40: ReduceLROnPlateau reducing learning rate to 4.882812731921149e-07.\n",
      "32/32 [==============================] - 1s 20ms/step - loss: 0.2973 - root_mean_squared_error: 0.2950 - mean_squared_error: 0.2144 - mean_absolute_percentage_error: 57.5969 - mean_absolute_error: 0.2375 - val_loss: 0.5802 - val_root_mean_squared_error: 0.5971 - val_mean_squared_error: 0.4059 - val_mean_absolute_percentage_error: 154.0054 - val_mean_absolute_error: 0.4929 - lr: 9.7656e-07\n",
      "Epoch 41/100\n",
      "32/32 [==============================] - 1s 19ms/step - loss: 0.2981 - root_mean_squared_error: 0.2954 - mean_squared_error: 0.2147 - mean_absolute_percentage_error: 57.7783 - mean_absolute_error: 0.2375 - val_loss: 0.5803 - val_root_mean_squared_error: 0.5972 - val_mean_squared_error: 0.4060 - val_mean_absolute_percentage_error: 154.0312 - val_mean_absolute_error: 0.4930 - lr: 4.8828e-07\n",
      "Epoch 42/100\n",
      "32/32 [==============================] - 1s 20ms/step - loss: 0.2991 - root_mean_squared_error: 0.2967 - mean_squared_error: 0.2159 - mean_absolute_percentage_error: 58.5148 - mean_absolute_error: 0.2391 - val_loss: 0.5804 - val_root_mean_squared_error: 0.5972 - val_mean_squared_error: 0.4061 - val_mean_absolute_percentage_error: 154.0506 - val_mean_absolute_error: 0.4930 - lr: 4.8828e-07\n",
      "Epoch 43/100\n",
      "30/32 [===========================>..] - ETA: 0s - loss: 0.2970 - root_mean_squared_error: 0.2970 - mean_squared_error: 0.2194 - mean_absolute_percentage_error: 59.4149 - mean_absolute_error: 0.2370\n",
      "Epoch 43: ReduceLROnPlateau reducing learning rate to 2.4414063659605745e-07.\n",
      "32/32 [==============================] - 1s 19ms/step - loss: 0.2975 - root_mean_squared_error: 0.2951 - mean_squared_error: 0.2156 - mean_absolute_percentage_error: 58.3466 - mean_absolute_error: 0.2380 - val_loss: 0.5804 - val_root_mean_squared_error: 0.5972 - val_mean_squared_error: 0.4061 - val_mean_absolute_percentage_error: 154.0473 - val_mean_absolute_error: 0.4930 - lr: 4.8828e-07\n",
      "Epoch 44/100\n",
      "32/32 [==============================] - 1s 19ms/step - loss: 0.2985 - root_mean_squared_error: 0.2958 - mean_squared_error: 0.2161 - mean_absolute_percentage_error: 58.3289 - mean_absolute_error: 0.2387 - val_loss: 0.5802 - val_root_mean_squared_error: 0.5971 - val_mean_squared_error: 0.4059 - val_mean_absolute_percentage_error: 154.0062 - val_mean_absolute_error: 0.4929 - lr: 2.4414e-07\n",
      "Epoch 45/100\n",
      "32/32 [==============================] - 1s 19ms/step - loss: 0.2972 - root_mean_squared_error: 0.2943 - mean_squared_error: 0.2152 - mean_absolute_percentage_error: 56.7303 - mean_absolute_error: 0.2381 - val_loss: 0.5803 - val_root_mean_squared_error: 0.5971 - val_mean_squared_error: 0.4060 - val_mean_absolute_percentage_error: 154.0125 - val_mean_absolute_error: 0.4929 - lr: 2.4414e-07\n",
      "Epoch 46/100\n",
      "30/32 [===========================>..] - ETA: 0s - loss: 0.2975 - root_mean_squared_error: 0.2975 - mean_squared_error: 0.2188 - mean_absolute_percentage_error: 58.4534 - mean_absolute_error: 0.2371\n",
      "Epoch 46: ReduceLROnPlateau reducing learning rate to 1.2207031829802872e-07.\n",
      "32/32 [==============================] - 1s 20ms/step - loss: 0.2982 - root_mean_squared_error: 0.2953 - mean_squared_error: 0.2153 - mean_absolute_percentage_error: 57.4495 - mean_absolute_error: 0.2383 - val_loss: 0.5802 - val_root_mean_squared_error: 0.5970 - val_mean_squared_error: 0.4059 - val_mean_absolute_percentage_error: 153.9832 - val_mean_absolute_error: 0.4928 - lr: 2.4414e-07\n",
      "Epoch 47/100\n",
      "32/32 [==============================] - 1s 20ms/step - loss: 0.2984 - root_mean_squared_error: 0.2960 - mean_squared_error: 0.2155 - mean_absolute_percentage_error: 57.1227 - mean_absolute_error: 0.2389 - val_loss: 0.5801 - val_root_mean_squared_error: 0.5970 - val_mean_squared_error: 0.4058 - val_mean_absolute_percentage_error: 153.9655 - val_mean_absolute_error: 0.4928 - lr: 1.2207e-07\n",
      "Epoch 48/100\n",
      "32/32 [==============================] - 1s 20ms/step - loss: 0.2977 - root_mean_squared_error: 0.2956 - mean_squared_error: 0.2153 - mean_absolute_percentage_error: 57.3412 - mean_absolute_error: 0.2383 - val_loss: 0.5801 - val_root_mean_squared_error: 0.5970 - val_mean_squared_error: 0.4058 - val_mean_absolute_percentage_error: 153.9671 - val_mean_absolute_error: 0.4928 - lr: 1.2207e-07\n",
      "Epoch 49/100\n",
      "29/32 [==========================>...] - ETA: 0s - loss: 0.2924 - root_mean_squared_error: 0.2924 - mean_squared_error: 0.2203 - mean_absolute_percentage_error: 49.3406 - mean_absolute_error: 0.2337\n",
      "Epoch 49: ReduceLROnPlateau reducing learning rate to 6.103515914901436e-08.\n",
      "32/32 [==============================] - 1s 20ms/step - loss: 0.2985 - root_mean_squared_error: 0.2964 - mean_squared_error: 0.2161 - mean_absolute_percentage_error: 57.2192 - mean_absolute_error: 0.2393 - val_loss: 0.5801 - val_root_mean_squared_error: 0.5970 - val_mean_squared_error: 0.4058 - val_mean_absolute_percentage_error: 153.9729 - val_mean_absolute_error: 0.4928 - lr: 1.2207e-07\n",
      "Epoch 50/100\n",
      "32/32 [==============================] - 1s 20ms/step - loss: 0.2952 - root_mean_squared_error: 0.2924 - mean_squared_error: 0.2135 - mean_absolute_percentage_error: 56.6161 - mean_absolute_error: 0.2351 - val_loss: 0.5801 - val_root_mean_squared_error: 0.5970 - val_mean_squared_error: 0.4058 - val_mean_absolute_percentage_error: 153.9681 - val_mean_absolute_error: 0.4928 - lr: 6.1035e-08\n",
      "Epoch 51/100\n",
      "32/32 [==============================] - 1s 20ms/step - loss: 0.2975 - root_mean_squared_error: 0.2952 - mean_squared_error: 0.2144 - mean_absolute_percentage_error: 57.9912 - mean_absolute_error: 0.2376 - val_loss: 0.5801 - val_root_mean_squared_error: 0.5970 - val_mean_squared_error: 0.4058 - val_mean_absolute_percentage_error: 153.9609 - val_mean_absolute_error: 0.4928 - lr: 6.1035e-08\n"
     ]
    },
    {
     "name": "stdout",
     "output_type": "stream",
     "text": [
      "Epoch 52/100\n",
      "31/32 [============================>.] - ETA: 0s - loss: 0.3006 - root_mean_squared_error: 0.3006 - mean_squared_error: 0.2158 - mean_absolute_percentage_error: 58.1716 - mean_absolute_error: 0.2403\n",
      "Epoch 52: ReduceLROnPlateau reducing learning rate to 3.051757957450718e-08.\n",
      "32/32 [==============================] - 1s 20ms/step - loss: 0.2999 - root_mean_squared_error: 0.2973 - mean_squared_error: 0.2156 - mean_absolute_percentage_error: 58.1173 - mean_absolute_error: 0.2402 - val_loss: 0.5801 - val_root_mean_squared_error: 0.5970 - val_mean_squared_error: 0.4058 - val_mean_absolute_percentage_error: 153.9596 - val_mean_absolute_error: 0.4928 - lr: 6.1035e-08\n",
      "Epoch 53/100\n",
      "32/32 [==============================] - 1s 19ms/step - loss: 0.2969 - root_mean_squared_error: 0.2943 - mean_squared_error: 0.2137 - mean_absolute_percentage_error: 57.3224 - mean_absolute_error: 0.2372 - val_loss: 0.5801 - val_root_mean_squared_error: 0.5970 - val_mean_squared_error: 0.4058 - val_mean_absolute_percentage_error: 153.9588 - val_mean_absolute_error: 0.4928 - lr: 3.0518e-08\n",
      "Epoch 54/100\n",
      "32/32 [==============================] - 1s 19ms/step - loss: 0.2978 - root_mean_squared_error: 0.2951 - mean_squared_error: 0.2156 - mean_absolute_percentage_error: 56.8240 - mean_absolute_error: 0.2379 - val_loss: 0.5801 - val_root_mean_squared_error: 0.5970 - val_mean_squared_error: 0.4058 - val_mean_absolute_percentage_error: 153.9566 - val_mean_absolute_error: 0.4928 - lr: 3.0518e-08\n",
      "Epoch 55/100\n",
      "31/32 [============================>.] - ETA: 0s - loss: 0.2994 - root_mean_squared_error: 0.2994 - mean_squared_error: 0.2155 - mean_absolute_percentage_error: 58.2555 - mean_absolute_error: 0.2388\n",
      "Epoch 55: ReduceLROnPlateau reducing learning rate to 1.525878978725359e-08.\n",
      "32/32 [==============================] - 1s 20ms/step - loss: 0.2988 - root_mean_squared_error: 0.2962 - mean_squared_error: 0.2153 - mean_absolute_percentage_error: 58.2018 - mean_absolute_error: 0.2387 - val_loss: 0.5801 - val_root_mean_squared_error: 0.5970 - val_mean_squared_error: 0.4058 - val_mean_absolute_percentage_error: 153.9539 - val_mean_absolute_error: 0.4928 - lr: 3.0518e-08\n",
      "Epoch 56/100\n",
      "32/32 [==============================] - 1s 21ms/step - loss: 0.2971 - root_mean_squared_error: 0.2947 - mean_squared_error: 0.2146 - mean_absolute_percentage_error: 56.7541 - mean_absolute_error: 0.2376 - val_loss: 0.5801 - val_root_mean_squared_error: 0.5970 - val_mean_squared_error: 0.4058 - val_mean_absolute_percentage_error: 153.9523 - val_mean_absolute_error: 0.4928 - lr: 1.5259e-08\n",
      "Epoch 57/100\n",
      "32/32 [==============================] - 1s 21ms/step - loss: 0.2964 - root_mean_squared_error: 0.2939 - mean_squared_error: 0.2144 - mean_absolute_percentage_error: 58.1166 - mean_absolute_error: 0.2362 - val_loss: 0.5801 - val_root_mean_squared_error: 0.5970 - val_mean_squared_error: 0.4058 - val_mean_absolute_percentage_error: 153.9501 - val_mean_absolute_error: 0.4927 - lr: 1.5259e-08\n",
      "Epoch 58/100\n",
      "32/32 [==============================] - ETA: 0s - loss: 0.2977 - root_mean_squared_error: 0.2953 - mean_squared_error: 0.2150 - mean_absolute_percentage_error: 56.4237 - mean_absolute_error: 0.2381\n",
      "Epoch 58: ReduceLROnPlateau reducing learning rate to 7.629394893626795e-09.\n",
      "32/32 [==============================] - 1s 20ms/step - loss: 0.2977 - root_mean_squared_error: 0.2953 - mean_squared_error: 0.2150 - mean_absolute_percentage_error: 56.4237 - mean_absolute_error: 0.2381 - val_loss: 0.5801 - val_root_mean_squared_error: 0.5970 - val_mean_squared_error: 0.4058 - val_mean_absolute_percentage_error: 153.9500 - val_mean_absolute_error: 0.4927 - lr: 1.5259e-08\n",
      "Epoch 59/100\n",
      "32/32 [==============================] - 1s 20ms/step - loss: 0.3005 - root_mean_squared_error: 0.2987 - mean_squared_error: 0.2160 - mean_absolute_percentage_error: 57.6523 - mean_absolute_error: 0.2400 - val_loss: 0.5801 - val_root_mean_squared_error: 0.5970 - val_mean_squared_error: 0.4058 - val_mean_absolute_percentage_error: 153.9502 - val_mean_absolute_error: 0.4927 - lr: 7.6294e-09\n",
      "Epoch 60/100\n",
      "32/32 [==============================] - 1s 19ms/step - loss: 0.2980 - root_mean_squared_error: 0.2961 - mean_squared_error: 0.2142 - mean_absolute_percentage_error: 57.6859 - mean_absolute_error: 0.2374 - val_loss: 0.5801 - val_root_mean_squared_error: 0.5970 - val_mean_squared_error: 0.4058 - val_mean_absolute_percentage_error: 153.9505 - val_mean_absolute_error: 0.4927 - lr: 7.6294e-09\n",
      "Epoch 61/100\n",
      "32/32 [==============================] - ETA: 0s - loss: 0.2979 - root_mean_squared_error: 0.2964 - mean_squared_error: 0.2158 - mean_absolute_percentage_error: 57.9068 - mean_absolute_error: 0.2386\n",
      "Epoch 61: ReduceLROnPlateau reducing learning rate to 3.814697446813398e-09.\n",
      "32/32 [==============================] - 1s 19ms/step - loss: 0.2979 - root_mean_squared_error: 0.2964 - mean_squared_error: 0.2158 - mean_absolute_percentage_error: 57.9068 - mean_absolute_error: 0.2386 - val_loss: 0.5801 - val_root_mean_squared_error: 0.5970 - val_mean_squared_error: 0.4058 - val_mean_absolute_percentage_error: 153.9507 - val_mean_absolute_error: 0.4927 - lr: 7.6294e-09\n",
      "Epoch 62/100\n",
      "32/32 [==============================] - 1s 19ms/step - loss: 0.2969 - root_mean_squared_error: 0.2948 - mean_squared_error: 0.2145 - mean_absolute_percentage_error: 56.8871 - mean_absolute_error: 0.2371 - val_loss: 0.5801 - val_root_mean_squared_error: 0.5970 - val_mean_squared_error: 0.4058 - val_mean_absolute_percentage_error: 153.9506 - val_mean_absolute_error: 0.4927 - lr: 3.8147e-09\n",
      "Epoch 63/100\n",
      "32/32 [==============================] - 1s 20ms/step - loss: 0.2983 - root_mean_squared_error: 0.2956 - mean_squared_error: 0.2151 - mean_absolute_percentage_error: 58.8848 - mean_absolute_error: 0.2386 - val_loss: 0.5801 - val_root_mean_squared_error: 0.5970 - val_mean_squared_error: 0.4058 - val_mean_absolute_percentage_error: 153.9506 - val_mean_absolute_error: 0.4927 - lr: 3.8147e-09\n",
      "Epoch 64/100\n",
      "31/32 [============================>.] - ETA: 0s - loss: 0.2979 - root_mean_squared_error: 0.2979 - mean_squared_error: 0.2150 - mean_absolute_percentage_error: 57.0396 - mean_absolute_error: 0.2388\n",
      "Epoch 64: ReduceLROnPlateau reducing learning rate to 1.907348723406699e-09.\n",
      "32/32 [==============================] - 1s 20ms/step - loss: 0.2973 - root_mean_squared_error: 0.2947 - mean_squared_error: 0.2148 - mean_absolute_percentage_error: 56.9882 - mean_absolute_error: 0.2387 - val_loss: 0.5801 - val_root_mean_squared_error: 0.5970 - val_mean_squared_error: 0.4058 - val_mean_absolute_percentage_error: 153.9505 - val_mean_absolute_error: 0.4927 - lr: 3.8147e-09\n",
      "Epoch 65/100\n",
      "32/32 [==============================] - 1s 19ms/step - loss: 0.2979 - root_mean_squared_error: 0.2952 - mean_squared_error: 0.2153 - mean_absolute_percentage_error: 56.6371 - mean_absolute_error: 0.2385 - val_loss: 0.5801 - val_root_mean_squared_error: 0.5970 - val_mean_squared_error: 0.4058 - val_mean_absolute_percentage_error: 153.9505 - val_mean_absolute_error: 0.4927 - lr: 1.9073e-09\n",
      "Epoch 66/100\n",
      "32/32 [==============================] - 1s 20ms/step - loss: 0.2982 - root_mean_squared_error: 0.2957 - mean_squared_error: 0.2159 - mean_absolute_percentage_error: 57.9352 - mean_absolute_error: 0.2392 - val_loss: 0.5801 - val_root_mean_squared_error: 0.5970 - val_mean_squared_error: 0.4058 - val_mean_absolute_percentage_error: 153.9504 - val_mean_absolute_error: 0.4927 - lr: 1.9073e-09\n",
      "Epoch 67/100\n",
      "31/32 [============================>.] - ETA: 0s - loss: 0.2992 - root_mean_squared_error: 0.2992 - mean_squared_error: 0.2151 - mean_absolute_percentage_error: 57.2471 - mean_absolute_error: 0.2389\n",
      "Epoch 67: ReduceLROnPlateau reducing learning rate to 9.536743617033494e-10.\n",
      "32/32 [==============================] - 1s 19ms/step - loss: 0.2987 - root_mean_squared_error: 0.2965 - mean_squared_error: 0.2149 - mean_absolute_percentage_error: 57.1952 - mean_absolute_error: 0.2389 - val_loss: 0.5801 - val_root_mean_squared_error: 0.5970 - val_mean_squared_error: 0.4058 - val_mean_absolute_percentage_error: 153.9504 - val_mean_absolute_error: 0.4927 - lr: 1.9073e-09\n",
      "Epoch 68/100\n"
     ]
    },
    {
     "name": "stdout",
     "output_type": "stream",
     "text": [
      "32/32 [==============================] - 1s 20ms/step - loss: 0.2956 - root_mean_squared_error: 0.2932 - mean_squared_error: 0.2150 - mean_absolute_percentage_error: 55.6062 - mean_absolute_error: 0.2359 - val_loss: 0.5801 - val_root_mean_squared_error: 0.5970 - val_mean_squared_error: 0.4058 - val_mean_absolute_percentage_error: 153.9504 - val_mean_absolute_error: 0.4927 - lr: 9.5367e-10\n",
      "Epoch 69/100\n",
      "32/32 [==============================] - 1s 20ms/step - loss: 0.2977 - root_mean_squared_error: 0.2954 - mean_squared_error: 0.2161 - mean_absolute_percentage_error: 56.3733 - mean_absolute_error: 0.2381 - val_loss: 0.5801 - val_root_mean_squared_error: 0.5970 - val_mean_squared_error: 0.4058 - val_mean_absolute_percentage_error: 153.9504 - val_mean_absolute_error: 0.4927 - lr: 9.5367e-10\n",
      "Epoch 70/100\n",
      "29/32 [==========================>...] - ETA: 0s - loss: 0.2899 - root_mean_squared_error: 0.2899 - mean_squared_error: 0.2186 - mean_absolute_percentage_error: 49.2028 - mean_absolute_error: 0.2308\n",
      "Epoch 70: ReduceLROnPlateau reducing learning rate to 4.768371808516747e-10.\n",
      "32/32 [==============================] - 1s 19ms/step - loss: 0.2960 - root_mean_squared_error: 0.2937 - mean_squared_error: 0.2145 - mean_absolute_percentage_error: 56.9113 - mean_absolute_error: 0.2365 - val_loss: 0.5801 - val_root_mean_squared_error: 0.5970 - val_mean_squared_error: 0.4058 - val_mean_absolute_percentage_error: 153.9504 - val_mean_absolute_error: 0.4927 - lr: 9.5367e-10\n",
      "Epoch 71/100\n",
      "32/32 [==============================] - 1s 19ms/step - loss: 0.2980 - root_mean_squared_error: 0.2952 - mean_squared_error: 0.2158 - mean_absolute_percentage_error: 58.3177 - mean_absolute_error: 0.2388 - val_loss: 0.5801 - val_root_mean_squared_error: 0.5970 - val_mean_squared_error: 0.4058 - val_mean_absolute_percentage_error: 153.9504 - val_mean_absolute_error: 0.4927 - lr: 4.7684e-10\n",
      "Epoch 72/100\n",
      "32/32 [==============================] - 1s 19ms/step - loss: 0.2973 - root_mean_squared_error: 0.2966 - mean_squared_error: 0.2148 - mean_absolute_percentage_error: 56.5824 - mean_absolute_error: 0.2372 - val_loss: 0.5801 - val_root_mean_squared_error: 0.5970 - val_mean_squared_error: 0.4058 - val_mean_absolute_percentage_error: 153.9504 - val_mean_absolute_error: 0.4927 - lr: 4.7684e-10\n",
      "Epoch 73/100\n",
      "31/32 [============================>.] - ETA: 0s - loss: 0.2976 - root_mean_squared_error: 0.2976 - mean_squared_error: 0.2155 - mean_absolute_percentage_error: 56.4075 - mean_absolute_error: 0.2378\n",
      "Epoch 73: ReduceLROnPlateau reducing learning rate to 2.3841859042583735e-10.\n",
      "32/32 [==============================] - 1s 20ms/step - loss: 0.2972 - root_mean_squared_error: 0.2956 - mean_squared_error: 0.2153 - mean_absolute_percentage_error: 56.3581 - mean_absolute_error: 0.2378 - val_loss: 0.5801 - val_root_mean_squared_error: 0.5970 - val_mean_squared_error: 0.4058 - val_mean_absolute_percentage_error: 153.9504 - val_mean_absolute_error: 0.4927 - lr: 4.7684e-10\n",
      "Epoch 74/100\n",
      "32/32 [==============================] - 1s 19ms/step - loss: 0.2975 - root_mean_squared_error: 0.2948 - mean_squared_error: 0.2151 - mean_absolute_percentage_error: 57.5422 - mean_absolute_error: 0.2382 - val_loss: 0.5801 - val_root_mean_squared_error: 0.5970 - val_mean_squared_error: 0.4058 - val_mean_absolute_percentage_error: 153.9504 - val_mean_absolute_error: 0.4927 - lr: 2.3842e-10\n",
      "Epoch 75/100\n",
      "32/32 [==============================] - 1s 19ms/step - loss: 0.2992 - root_mean_squared_error: 0.2979 - mean_squared_error: 0.2149 - mean_absolute_percentage_error: 58.2617 - mean_absolute_error: 0.2389 - val_loss: 0.5801 - val_root_mean_squared_error: 0.5970 - val_mean_squared_error: 0.4058 - val_mean_absolute_percentage_error: 153.9504 - val_mean_absolute_error: 0.4927 - lr: 2.3842e-10\n",
      "Epoch 76/100\n",
      "32/32 [==============================] - ETA: 0s - loss: 0.2969 - root_mean_squared_error: 0.2943 - mean_squared_error: 0.2145 - mean_absolute_percentage_error: 58.2045 - mean_absolute_error: 0.2365\n",
      "Epoch 76: ReduceLROnPlateau reducing learning rate to 1.1920929521291868e-10.\n",
      "32/32 [==============================] - 1s 20ms/step - loss: 0.2969 - root_mean_squared_error: 0.2943 - mean_squared_error: 0.2145 - mean_absolute_percentage_error: 58.2045 - mean_absolute_error: 0.2365 - val_loss: 0.5801 - val_root_mean_squared_error: 0.5970 - val_mean_squared_error: 0.4058 - val_mean_absolute_percentage_error: 153.9504 - val_mean_absolute_error: 0.4927 - lr: 2.3842e-10\n",
      "Epoch 77/100\n",
      "32/32 [==============================] - 1s 19ms/step - loss: 0.2975 - root_mean_squared_error: 0.2951 - mean_squared_error: 0.2162 - mean_absolute_percentage_error: 56.6473 - mean_absolute_error: 0.2387 - val_loss: 0.5801 - val_root_mean_squared_error: 0.5970 - val_mean_squared_error: 0.4058 - val_mean_absolute_percentage_error: 153.9504 - val_mean_absolute_error: 0.4927 - lr: 1.1921e-10\n",
      "Epoch 78/100\n",
      "32/32 [==============================] - 1s 20ms/step - loss: 0.2996 - root_mean_squared_error: 0.2967 - mean_squared_error: 0.2161 - mean_absolute_percentage_error: 58.3937 - mean_absolute_error: 0.2397 - val_loss: 0.5801 - val_root_mean_squared_error: 0.5970 - val_mean_squared_error: 0.4058 - val_mean_absolute_percentage_error: 153.9504 - val_mean_absolute_error: 0.4927 - lr: 1.1921e-10\n",
      "Epoch 79/100\n",
      "30/32 [===========================>..] - ETA: 0s - loss: 0.2953 - root_mean_squared_error: 0.2953 - mean_squared_error: 0.2182 - mean_absolute_percentage_error: 58.3004 - mean_absolute_error: 0.2360\n",
      "Epoch 79: ReduceLROnPlateau reducing learning rate to 1e-10.\n",
      "32/32 [==============================] - 1s 19ms/step - loss: 0.2959 - root_mean_squared_error: 0.2935 - mean_squared_error: 0.2145 - mean_absolute_percentage_error: 57.2774 - mean_absolute_error: 0.2370 - val_loss: 0.5801 - val_root_mean_squared_error: 0.5970 - val_mean_squared_error: 0.4058 - val_mean_absolute_percentage_error: 153.9504 - val_mean_absolute_error: 0.4927 - lr: 1.1921e-10\n",
      "Epoch 80/100\n",
      "32/32 [==============================] - 1s 20ms/step - loss: 0.2978 - root_mean_squared_error: 0.2952 - mean_squared_error: 0.2151 - mean_absolute_percentage_error: 57.4331 - mean_absolute_error: 0.2382 - val_loss: 0.5801 - val_root_mean_squared_error: 0.5970 - val_mean_squared_error: 0.4058 - val_mean_absolute_percentage_error: 153.9504 - val_mean_absolute_error: 0.4927 - lr: 1.0000e-10\n",
      "Epoch 81/100\n",
      "32/32 [==============================] - 1s 19ms/step - loss: 0.2981 - root_mean_squared_error: 0.2952 - mean_squared_error: 0.2159 - mean_absolute_percentage_error: 57.4312 - mean_absolute_error: 0.2384 - val_loss: 0.5801 - val_root_mean_squared_error: 0.5970 - val_mean_squared_error: 0.4058 - val_mean_absolute_percentage_error: 153.9504 - val_mean_absolute_error: 0.4927 - lr: 1.0000e-10\n",
      "Epoch 82/100\n",
      "32/32 [==============================] - 1s 20ms/step - loss: 0.2991 - root_mean_squared_error: 0.2967 - mean_squared_error: 0.2151 - mean_absolute_percentage_error: 58.3556 - mean_absolute_error: 0.2382 - val_loss: 0.5801 - val_root_mean_squared_error: 0.5970 - val_mean_squared_error: 0.4058 - val_mean_absolute_percentage_error: 153.9504 - val_mean_absolute_error: 0.4927 - lr: 1.0000e-10\n",
      "Epoch 83/100\n",
      "32/32 [==============================] - 1s 19ms/step - loss: 0.2958 - root_mean_squared_error: 0.2931 - mean_squared_error: 0.2151 - mean_absolute_percentage_error: 56.4352 - mean_absolute_error: 0.2365 - val_loss: 0.5801 - val_root_mean_squared_error: 0.5970 - val_mean_squared_error: 0.4058 - val_mean_absolute_percentage_error: 153.9504 - val_mean_absolute_error: 0.4927 - lr: 1.0000e-10\n",
      "Epoch 84/100\n",
      "32/32 [==============================] - 1s 20ms/step - loss: 0.2988 - root_mean_squared_error: 0.2960 - mean_squared_error: 0.2158 - mean_absolute_percentage_error: 57.1908 - mean_absolute_error: 0.2390 - val_loss: 0.5801 - val_root_mean_squared_error: 0.5970 - val_mean_squared_error: 0.4058 - val_mean_absolute_percentage_error: 153.9504 - val_mean_absolute_error: 0.4927 - lr: 1.0000e-10\n",
      "Epoch 85/100\n",
      "32/32 [==============================] - 1s 19ms/step - loss: 0.2962 - root_mean_squared_error: 0.2935 - mean_squared_error: 0.2133 - mean_absolute_percentage_error: 55.8713 - mean_absolute_error: 0.2357 - val_loss: 0.5801 - val_root_mean_squared_error: 0.5970 - val_mean_squared_error: 0.4058 - val_mean_absolute_percentage_error: 153.9504 - val_mean_absolute_error: 0.4927 - lr: 1.0000e-10\n"
     ]
    },
    {
     "name": "stdout",
     "output_type": "stream",
     "text": [
      "Epoch 86/100\n",
      "32/32 [==============================] - 1s 20ms/step - loss: 0.2995 - root_mean_squared_error: 0.2967 - mean_squared_error: 0.2148 - mean_absolute_percentage_error: 57.5498 - mean_absolute_error: 0.2389 - val_loss: 0.5801 - val_root_mean_squared_error: 0.5970 - val_mean_squared_error: 0.4058 - val_mean_absolute_percentage_error: 153.9504 - val_mean_absolute_error: 0.4927 - lr: 1.0000e-10\n",
      "Epoch 87/100\n",
      "32/32 [==============================] - 1s 20ms/step - loss: 0.2993 - root_mean_squared_error: 0.2970 - mean_squared_error: 0.2166 - mean_absolute_percentage_error: 58.3316 - mean_absolute_error: 0.2399 - val_loss: 0.5801 - val_root_mean_squared_error: 0.5970 - val_mean_squared_error: 0.4058 - val_mean_absolute_percentage_error: 153.9504 - val_mean_absolute_error: 0.4927 - lr: 1.0000e-10\n",
      "Epoch 88/100\n",
      "32/32 [==============================] - 1s 21ms/step - loss: 0.2983 - root_mean_squared_error: 0.2967 - mean_squared_error: 0.2145 - mean_absolute_percentage_error: 57.2285 - mean_absolute_error: 0.2380 - val_loss: 0.5801 - val_root_mean_squared_error: 0.5970 - val_mean_squared_error: 0.4058 - val_mean_absolute_percentage_error: 153.9504 - val_mean_absolute_error: 0.4927 - lr: 1.0000e-10\n",
      "Epoch 89/100\n",
      "32/32 [==============================] - 1s 20ms/step - loss: 0.2977 - root_mean_squared_error: 0.2954 - mean_squared_error: 0.2142 - mean_absolute_percentage_error: 57.1256 - mean_absolute_error: 0.2377 - val_loss: 0.5801 - val_root_mean_squared_error: 0.5970 - val_mean_squared_error: 0.4058 - val_mean_absolute_percentage_error: 153.9504 - val_mean_absolute_error: 0.4927 - lr: 1.0000e-10\n",
      "Epoch 90/100\n",
      "32/32 [==============================] - 1s 20ms/step - loss: 0.2987 - root_mean_squared_error: 0.2963 - mean_squared_error: 0.2154 - mean_absolute_percentage_error: 56.9292 - mean_absolute_error: 0.2396 - val_loss: 0.5801 - val_root_mean_squared_error: 0.5970 - val_mean_squared_error: 0.4058 - val_mean_absolute_percentage_error: 153.9504 - val_mean_absolute_error: 0.4927 - lr: 1.0000e-10\n",
      "Epoch 91/100\n",
      "32/32 [==============================] - 1s 20ms/step - loss: 0.2994 - root_mean_squared_error: 0.2968 - mean_squared_error: 0.2153 - mean_absolute_percentage_error: 58.4289 - mean_absolute_error: 0.2391 - val_loss: 0.5801 - val_root_mean_squared_error: 0.5970 - val_mean_squared_error: 0.4058 - val_mean_absolute_percentage_error: 153.9504 - val_mean_absolute_error: 0.4927 - lr: 1.0000e-10\n",
      "Epoch 92/100\n",
      "32/32 [==============================] - 1s 20ms/step - loss: 0.2982 - root_mean_squared_error: 0.2954 - mean_squared_error: 0.2159 - mean_absolute_percentage_error: 58.0450 - mean_absolute_error: 0.2391 - val_loss: 0.5801 - val_root_mean_squared_error: 0.5970 - val_mean_squared_error: 0.4058 - val_mean_absolute_percentage_error: 153.9504 - val_mean_absolute_error: 0.4927 - lr: 1.0000e-10\n",
      "Epoch 93/100\n",
      "32/32 [==============================] - 1s 21ms/step - loss: 0.2976 - root_mean_squared_error: 0.2948 - mean_squared_error: 0.2145 - mean_absolute_percentage_error: 57.2753 - mean_absolute_error: 0.2377 - val_loss: 0.5801 - val_root_mean_squared_error: 0.5970 - val_mean_squared_error: 0.4058 - val_mean_absolute_percentage_error: 153.9504 - val_mean_absolute_error: 0.4927 - lr: 1.0000e-10\n",
      "Epoch 94/100\n",
      "32/32 [==============================] - 1s 24ms/step - loss: 0.2977 - root_mean_squared_error: 0.2953 - mean_squared_error: 0.2145 - mean_absolute_percentage_error: 58.0383 - mean_absolute_error: 0.2375 - val_loss: 0.5801 - val_root_mean_squared_error: 0.5970 - val_mean_squared_error: 0.4058 - val_mean_absolute_percentage_error: 153.9504 - val_mean_absolute_error: 0.4927 - lr: 1.0000e-10\n",
      "Epoch 95/100\n",
      "32/32 [==============================] - 1s 46ms/step - loss: 0.2973 - root_mean_squared_error: 0.2947 - mean_squared_error: 0.2147 - mean_absolute_percentage_error: 57.2309 - mean_absolute_error: 0.2377 - val_loss: 0.5801 - val_root_mean_squared_error: 0.5970 - val_mean_squared_error: 0.4058 - val_mean_absolute_percentage_error: 153.9504 - val_mean_absolute_error: 0.4927 - lr: 1.0000e-10\n",
      "Epoch 96/100\n",
      "32/32 [==============================] - 2s 65ms/step - loss: 0.2979 - root_mean_squared_error: 0.2954 - mean_squared_error: 0.2145 - mean_absolute_percentage_error: 56.4147 - mean_absolute_error: 0.2371 - val_loss: 0.5801 - val_root_mean_squared_error: 0.5970 - val_mean_squared_error: 0.4058 - val_mean_absolute_percentage_error: 153.9504 - val_mean_absolute_error: 0.4927 - lr: 1.0000e-10\n",
      "Epoch 97/100\n",
      "32/32 [==============================] - 2s 66ms/step - loss: 0.2955 - root_mean_squared_error: 0.2928 - mean_squared_error: 0.2146 - mean_absolute_percentage_error: 56.6554 - mean_absolute_error: 0.2366 - val_loss: 0.5801 - val_root_mean_squared_error: 0.5970 - val_mean_squared_error: 0.4058 - val_mean_absolute_percentage_error: 153.9504 - val_mean_absolute_error: 0.4927 - lr: 1.0000e-10\n",
      "Epoch 98/100\n",
      "32/32 [==============================] - 1s 23ms/step - loss: 0.3001 - root_mean_squared_error: 0.2980 - mean_squared_error: 0.2158 - mean_absolute_percentage_error: 58.1085 - mean_absolute_error: 0.2395 - val_loss: 0.5801 - val_root_mean_squared_error: 0.5970 - val_mean_squared_error: 0.4058 - val_mean_absolute_percentage_error: 153.9504 - val_mean_absolute_error: 0.4927 - lr: 1.0000e-10\n",
      "Epoch 99/100\n",
      "32/32 [==============================] - 2s 67ms/step - loss: 0.2972 - root_mean_squared_error: 0.2947 - mean_squared_error: 0.2150 - mean_absolute_percentage_error: 58.3480 - mean_absolute_error: 0.2377 - val_loss: 0.5801 - val_root_mean_squared_error: 0.5970 - val_mean_squared_error: 0.4058 - val_mean_absolute_percentage_error: 153.9504 - val_mean_absolute_error: 0.4927 - lr: 1.0000e-10\n",
      "Epoch 100/100\n",
      "32/32 [==============================] - 2s 66ms/step - loss: 0.2962 - root_mean_squared_error: 0.2936 - mean_squared_error: 0.2136 - mean_absolute_percentage_error: 55.8409 - mean_absolute_error: 0.2365 - val_loss: 0.5801 - val_root_mean_squared_error: 0.5970 - val_mean_squared_error: 0.4058 - val_mean_absolute_percentage_error: 153.9504 - val_mean_absolute_error: 0.4927 - lr: 1.0000e-10\n"
     ]
    }
   ],
   "source": [
    "history = model.fit(X_train, Y_train, validation_data = (X_val, Y_val), epochs=100, batch_size=16,  verbose=1, shuffle=False ,callbacks=[learning_rate_reduction])"
   ]
  },
  {
   "cell_type": "code",
   "execution_count": 306,
   "metadata": {},
   "outputs": [
    {
     "name": "stdout",
     "output_type": "stream",
     "text": [
      "dict_keys(['loss', 'root_mean_squared_error', 'mean_squared_error', 'mean_absolute_percentage_error', 'mean_absolute_error', 'val_loss', 'val_root_mean_squared_error', 'val_mean_squared_error', 'val_mean_absolute_percentage_error', 'val_mean_absolute_error', 'lr'])\n"
     ]
    },
    {
     "data": {
      "image/png": "[encoded data removed]",
      "text/plain": [
       "<Figure size 432x288 with 1 Axes>"
      ]
     },
     "metadata": {
      "needs_background": "light"
     },
     "output_type": "display_data"
    }
   ],
   "source": [
    "#Visualizing the Loss over epochs\n",
    "print(history.history.keys())\n",
    "plt.plot(history.history['loss'])\n",
    "plt.plot(history.history['val_loss'])\n",
    "plt.title('model loss')\n",
    "plt.ylabel('loss')\n",
    "plt.xlabel('epoch')\n",
    "plt.legend(['train', 'validation'], loc='upper right')\n",
    "plt.show()"
   ]
  },
  {
   "cell_type": "code",
   "execution_count": 307,
   "metadata": {},
   "outputs": [
    {
     "name": "stdout",
     "output_type": "stream",
     "text": [
      "4/4 [==============================] - 0s 5ms/step - loss: 0.6656 - root_mean_squared_error: 0.6749 - mean_squared_error: 0.5047 - mean_absolute_percentage_error: 178.5562 - mean_absolute_error: 0.5329\n"
     ]
    },
    {
     "data": {
      "text/plain": [
       "[0.6656133532524109,\n",
       " 0.6748852133750916,\n",
       " 0.5047189593315125,\n",
       " 178.55621337890625,\n",
       " 0.5329447984695435]"
      ]
     },
     "execution_count": 307,
     "metadata": {},
     "output_type": "execute_result"
    }
   ],
   "source": [
    "model.evaluate(X_val,Y_val) #Results from MSE"
   ]
  },
  {
   "cell_type": "code",
   "execution_count": 308,
   "metadata": {},
   "outputs": [
    {
     "name": "stdout",
     "output_type": "stream",
     "text": [
      "1/1 [==============================] - 0s 23ms/step - loss: 2.1056 - root_mean_squared_error: 2.1056 - mean_squared_error: 4.4334 - mean_absolute_percentage_error: 47.3234 - mean_absolute_error: 2.0027\n"
     ]
    },
    {
     "data": {
      "text/plain": [
       "[2.105557680130005,\n",
       " 2.105557680130005,\n",
       " 4.433372974395752,\n",
       " 47.3233642578125,\n",
       " 2.0026509761810303]"
      ]
     },
     "execution_count": 308,
     "metadata": {},
     "output_type": "execute_result"
    }
   ],
   "source": [
    "model.evaluate(reshape_data(x_test, timesteps=1),reshape_data(y_test, timesteps=1))"
   ]
  },
  {
   "cell_type": "code",
   "execution_count": 309,
   "metadata": {},
   "outputs": [
    {
     "name": "stdout",
     "output_type": "stream",
     "text": [
      "4/4 [==============================] - 0s 5ms/step - loss: 0.6656 - root_mean_squared_error: 0.6749 - mean_squared_error: 0.5047 - mean_absolute_percentage_error: 178.5562 - mean_absolute_error: 0.5329\n"
     ]
    },
    {
     "data": {
      "text/plain": [
       "[0.6656133532524109,\n",
       " 0.6748852133750916,\n",
       " 0.5047189593315125,\n",
       " 178.55621337890625,\n",
       " 0.5329447984695435]"
      ]
     },
     "execution_count": 309,
     "metadata": {},
     "output_type": "execute_result"
    }
   ],
   "source": [
    "model.evaluate(X_val,Y_val) "
   ]
  },
  {
   "cell_type": "code",
   "execution_count": 310,
   "metadata": {},
   "outputs": [
    {
     "name": "stdout",
     "output_type": "stream",
     "text": [
      "1/1 [==============================] - 0s 22ms/step - loss: 2.1056 - root_mean_squared_error: 2.1056 - mean_squared_error: 4.4334 - mean_absolute_percentage_error: 47.3234 - mean_absolute_error: 2.0027\n"
     ]
    },
    {
     "data": {
      "text/plain": [
       "[2.105557680130005,\n",
       " 2.105557680130005,\n",
       " 4.433372974395752,\n",
       " 47.3233642578125,\n",
       " 2.0026509761810303]"
      ]
     },
     "execution_count": 310,
     "metadata": {},
     "output_type": "execute_result"
    }
   ],
   "source": [
    "model.evaluate(reshape_data(x_test, timesteps=1),reshape_data(y_test, timesteps=1))"
   ]
  },
  {
   "cell_type": "code",
   "execution_count": 311,
   "metadata": {},
   "outputs": [
    {
     "name": "stdout",
     "output_type": "stream",
     "text": [
      "WARNING:tensorflow:5 out of the last 733 calls to <function Model.make_predict_function.<locals>.predict_function at 0x000001EA29D2A3A0> triggered tf.function retracing. Tracing is expensive and the excessive number of tracings could be due to (1) creating @tf.function repeatedly in a loop, (2) passing tensors with different shapes, (3) passing Python objects instead of tensors. For (1), please define your @tf.function outside of the loop. For (2), @tf.function has experimental_relax_shapes=True option that relaxes argument shapes that can avoid unnecessary retracing. For (3), please refer to https://www.tensorflow.org/guide/function#controlling_retracing and https://www.tensorflow.org/api_docs/python/tf/function for  more details.\n"
     ]
    },
    {
     "data": {
      "text/html": [
       "<div>\n",
       "<style scoped>\n",
       "    .dataframe tbody tr th:only-of-type {\n",
       "        vertical-align: middle;\n",
       "    }\n",
       "\n",
       "    .dataframe tbody tr th {\n",
       "        vertical-align: top;\n",
       "    }\n",
       "\n",
       "    .dataframe thead th {\n",
       "        text-align: right;\n",
       "    }\n",
       "</style>\n",
       "<table border=\"1\" class=\"dataframe\">\n",
       "  <thead>\n",
       "    <tr style=\"text-align: right;\">\n",
       "      <th></th>\n",
       "      <th>metrics.caseDensity(t)</th>\n",
       "      <th>metrics.caseDensity(t+1)</th>\n",
       "      <th>metrics.caseDensity(t+2)</th>\n",
       "      <th>metrics.caseDensity(t+3)</th>\n",
       "      <th>metrics.caseDensity(t+4)</th>\n",
       "      <th>metrics.caseDensity(t+5)</th>\n",
       "      <th>metrics.caseDensity(t+6)</th>\n",
       "    </tr>\n",
       "    <tr>\n",
       "      <th>date</th>\n",
       "      <th></th>\n",
       "      <th></th>\n",
       "      <th></th>\n",
       "      <th></th>\n",
       "      <th></th>\n",
       "      <th></th>\n",
       "      <th></th>\n",
       "    </tr>\n",
       "  </thead>\n",
       "  <tbody>\n",
       "    <tr>\n",
       "      <th>2022-01-03</th>\n",
       "      <td>2.066771</td>\n",
       "      <td>1.843275</td>\n",
       "      <td>2.312389</td>\n",
       "      <td>1.577015</td>\n",
       "      <td>2.44255</td>\n",
       "      <td>2.283105</td>\n",
       "      <td>2.35925</td>\n",
       "    </tr>\n",
       "  </tbody>\n",
       "</table>\n",
       "</div>"
      ],
      "text/plain": [
       "            metrics.caseDensity(t)  metrics.caseDensity(t+1)  \\\n",
       "date                                                           \n",
       "2022-01-03                2.066771                  1.843275   \n",
       "\n",
       "            metrics.caseDensity(t+2)  metrics.caseDensity(t+3)  \\\n",
       "date                                                             \n",
       "2022-01-03                  2.312389                  1.577015   \n",
       "\n",
       "            metrics.caseDensity(t+4)  metrics.caseDensity(t+5)  \\\n",
       "date                                                             \n",
       "2022-01-03                   2.44255                  2.283105   \n",
       "\n",
       "            metrics.caseDensity(t+6)  \n",
       "date                                  \n",
       "2022-01-03                   2.35925  "
      ]
     },
     "execution_count": 311,
     "metadata": {},
     "output_type": "execute_result"
    }
   ],
   "source": [
    "col = y_test.columns\n",
    "y_pred = model.predict(reshape_data(x_test, timesteps=1))\n",
    "y_pred_df=pd.DataFrame()\n",
    "y_pred_df[col] = y_pred\n",
    "y_pred_df.index = y_test.index\n",
    "y_pred_df.head()"
   ]
  },
  {
   "cell_type": "code",
   "execution_count": 312,
   "metadata": {},
   "outputs": [
    {
     "data": {
      "text/html": [
       "<div>\n",
       "<style scoped>\n",
       "    .dataframe tbody tr th:only-of-type {\n",
       "        vertical-align: middle;\n",
       "    }\n",
       "\n",
       "    .dataframe tbody tr th {\n",
       "        vertical-align: top;\n",
       "    }\n",
       "\n",
       "    .dataframe thead th {\n",
       "        text-align: right;\n",
       "    }\n",
       "</style>\n",
       "<table border=\"1\" class=\"dataframe\">\n",
       "  <thead>\n",
       "    <tr style=\"text-align: right;\">\n",
       "      <th></th>\n",
       "      <th>metrics.caseDensity(t)</th>\n",
       "      <th>metrics.caseDensity(t+1)</th>\n",
       "      <th>metrics.caseDensity(t+2)</th>\n",
       "      <th>metrics.caseDensity(t+3)</th>\n",
       "      <th>metrics.caseDensity(t+4)</th>\n",
       "      <th>metrics.caseDensity(t+5)</th>\n",
       "      <th>metrics.caseDensity(t+6)</th>\n",
       "    </tr>\n",
       "    <tr>\n",
       "      <th>date</th>\n",
       "      <th></th>\n",
       "      <th></th>\n",
       "      <th></th>\n",
       "      <th></th>\n",
       "      <th></th>\n",
       "      <th></th>\n",
       "      <th></th>\n",
       "    </tr>\n",
       "  </thead>\n",
       "  <tbody>\n",
       "    <tr>\n",
       "      <th>2022-01-03</th>\n",
       "      <td>2.998285</td>\n",
       "      <td>3.382862</td>\n",
       "      <td>3.773047</td>\n",
       "      <td>4.139958</td>\n",
       "      <td>4.579833</td>\n",
       "      <td>4.882025</td>\n",
       "      <td>5.1469</td>\n",
       "    </tr>\n",
       "  </tbody>\n",
       "</table>\n",
       "</div>"
      ],
      "text/plain": [
       "            metrics.caseDensity(t)  metrics.caseDensity(t+1)  \\\n",
       "date                                                           \n",
       "2022-01-03                2.998285                  3.382862   \n",
       "\n",
       "            metrics.caseDensity(t+2)  metrics.caseDensity(t+3)  \\\n",
       "date                                                             \n",
       "2022-01-03                  3.773047                  4.139958   \n",
       "\n",
       "            metrics.caseDensity(t+4)  metrics.caseDensity(t+5)  \\\n",
       "date                                                             \n",
       "2022-01-03                  4.579833                  4.882025   \n",
       "\n",
       "            metrics.caseDensity(t+6)  \n",
       "date                                  \n",
       "2022-01-03                    5.1469  "
      ]
     },
     "execution_count": 312,
     "metadata": {},
     "output_type": "execute_result"
    }
   ],
   "source": [
    "y_test.head()"
   ]
  },
  {
   "cell_type": "markdown",
   "metadata": {},
   "source": [
    "## Rescaling the value and Plotting\n"
   ]
  },
  {
   "cell_type": "code",
   "execution_count": 313,
   "metadata": {},
   "outputs": [
    {
     "data": {
      "text/plain": [
       "(87708.1127131783, 69948.04441944878)"
      ]
     },
     "execution_count": 313,
     "metadata": {},
     "output_type": "execute_result"
    }
   ],
   "source": [
    "import json\n",
    "file_path = \"daily_data_scaling_inforamtion.json\"\n",
    "with open (file_path) as file:\n",
    "    data = json.load(file)\n",
    "cases_mean = data['cases_mean']\n",
    "cases_std = data['cases_std']\n",
    "cases_mean, cases_std"
   ]
  },
  {
   "cell_type": "code",
   "execution_count": 314,
   "metadata": {},
   "outputs": [],
   "source": [
    "def rescaling_cases(df,cases_mean,cases_std):\n",
    "    rescaled_df = pd.DataFrame()\n",
    "    for feature in df.columns:\n",
    "        rescaled_df[[feature]] = (df[[feature]]*cases_std) + cases_mean\n",
    "    return rescaled_df\n",
    "        \n",
    "rescaled_y_test = rescaling_cases(y_test,cases_mean,cases_std)\n",
    "rescaled_y_pred_df = rescaling_cases(y_pred_df,cases_mean,cases_std)"
   ]
  },
  {
   "cell_type": "code",
   "execution_count": 315,
   "metadata": {},
   "outputs": [
    {
     "data": {
      "text/plain": [
       "(1, 7)"
      ]
     },
     "execution_count": 315,
     "metadata": {},
     "output_type": "execute_result"
    }
   ],
   "source": [
    "rescaled_y_pred_df.shape"
   ]
  },
  {
   "cell_type": "code",
   "execution_count": 316,
   "metadata": {},
   "outputs": [
    {
     "data": {
      "text/plain": [
       "(1, 7)"
      ]
     },
     "execution_count": 316,
     "metadata": {},
     "output_type": "execute_result"
    }
   ],
   "source": [
    "rescaled_y_test.shape"
   ]
  },
  {
   "cell_type": "code",
   "execution_count": 317,
   "metadata": {},
   "outputs": [],
   "source": [
    "def create_weekly_prediction(df): \n",
    "    indices = df.index.tolist()\n",
    "\n",
    "    results = []\n",
    "    for index in range(len(indices)):\n",
    "        if index ==0 or (index+1)%7==0:\n",
    "            results+=df.loc[indices[index]].tolist()\n",
    "             \n",
    "    results = results[0:len(indices)] #Removing the last few indices that are not available for the original data\n",
    "    new_df = pd.DataFrame()\n",
    "    new_df.index = df.index        \n",
    "    new_df['metrics.caseDensity(t)']=results\n",
    "    \n",
    "    return new_df\n",
    "\n",
    "weekly_rescaled_y_test = create_weekly_prediction(rescaled_y_test)\n",
    "weekly_rescaled_y_pred_df = create_weekly_prediction(rescaled_y_pred_df)"
   ]
  },
  {
   "cell_type": "code",
   "execution_count": 318,
   "metadata": {},
   "outputs": [
    {
     "data": {
      "text/plain": [
       "(            metrics.caseDensity(t)\n",
       " date                              \n",
       " 2022-01-03                297432.3,\n",
       "             metrics.caseDensity(t)\n",
       " date                              \n",
       " 2022-01-03             232274.6875)"
      ]
     },
     "execution_count": 318,
     "metadata": {},
     "output_type": "execute_result"
    }
   ],
   "source": [
    "weekly_rescaled_y_test, weekly_rescaled_y_pred_df"
   ]
  },
  {
   "cell_type": "code",
   "execution_count": 319,
   "metadata": {},
   "outputs": [
    {
     "data": {
      "text/plain": [
       "<matplotlib.legend.Legend at 0x1ea29d17430>"
      ]
     },
     "execution_count": 319,
     "metadata": {},
     "output_type": "execute_result"
    },
    {
     "data": {
      "image/png": "[encoded data removed]",
      "text/plain": [
       "<Figure size 720x432 with 1 Axes>"
      ]
     },
     "metadata": {
      "needs_background": "light"
     },
     "output_type": "display_data"
    }
   ],
   "source": [
    "import matplotlib.pyplot as plt\n",
    "plt.figure(figsize=(10,6))\n",
    "plt.plot(rescaling_cases(y_val,cases_mean,cases_std)['metrics.caseDensity(t)'], color='blue')\n",
    "plt.plot(weekly_rescaled_y_pred_df['metrics.caseDensity(t)'], color='red')\n",
    "plt.plot(weekly_rescaled_y_test['metrics.caseDensity(t)'], color='blue')\n",
    "plt.title('Actual vs. Predicted Covid Case Density (Test Data)')\n",
    "plt.ylabel('Number of Cases per 100k population')\n",
    "plt.xlabel('Days (Jan 3 -9 Jan 2022)')\n",
    "plt.legend(['pre-test','predicted', 'actual'])"
   ]
  },
  {
   "cell_type": "code",
   "execution_count": 320,
   "metadata": {},
   "outputs": [
    {
     "data": {
      "text/plain": [
       "<matplotlib.legend.Legend at 0x1ea3005c9d0>"
      ]
     },
     "execution_count": 320,
     "metadata": {},
     "output_type": "execute_result"
    },
    {
     "data": {
      "image/png": "[encoded data removed]",
      "text/plain": [
       "<Figure size 720x432 with 1 Axes>"
      ]
     },
     "metadata": {
      "needs_background": "light"
     },
     "output_type": "display_data"
    }
   ],
   "source": [
    "import matplotlib.pyplot as plt\n",
    "plt.figure(figsize=(10,6))\n",
    "plt.plot(rescaling_cases(y_val,cases_mean,cases_std)['metrics.caseDensity(t)'], color='blue')\n",
    "plt.plot(rescaled_y_pred_df['metrics.caseDensity(t)'], color='red')\n",
    "plt.plot(rescaled_y_test['metrics.caseDensity(t)'], color='blue')\n",
    "plt.title('Actual vs. Predicted Covid Case Density (Test Data)')\n",
    "plt.ylabel('Number of Cases per 100k population')\n",
    "plt.xlabel('Days (Jan 3 -9 Jan 2022)')\n",
    "plt.legend(['pre-test','predicted', 'actual'])"
   ]
  },
  {
   "cell_type": "code",
   "execution_count": 294,
   "metadata": {},
   "outputs": [],
   "source": [
    "# import matplotlib.pyplot as plt\n",
    "# plt.figure(figsize=(10,6))\n",
    "# plt.plot(y_pred_df['metrics.deathDensity(t)'], color='red')\n",
    "# plt.plot(y_test['metrics.deathDensity(t)'], color='blue')\n",
    "# plt.title('Actual vs. Predicted Covid Death Density (Test Data)')\n",
    "# plt.ylabel('Deaths/Population (Scaled)')\n",
    "# plt.xlabel('Days (5 Aug 2021 - 9 Jan 2022)')\n",
    "# plt.legend(['predicted', 'actual'])"
   ]
  }
 ],
 "metadata": {
  "kernelspec": {
   "display_name": "Python 3 (ipykernel)",
   "language": "python",
   "name": "python3"
  },
  "language_info": {
   "codemirror_mode": {
    "name": "ipython",
    "version": 3
   },
   "file_extension": ".py",
   "mimetype": "text/x-python",
   "name": "python",
   "nbconvert_exporter": "python",
   "pygments_lexer": "ipython3",
   "version": "3.9.10"
  }
 },
 "nbformat": 4,
 "nbformat_minor": 4
}
